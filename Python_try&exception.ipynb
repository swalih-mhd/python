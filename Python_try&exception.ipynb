{
  "cells": [
    {
      "cell_type": "markdown",
      "metadata": {
        "id": "hBWH7AsIbAh7"
      },
      "source": [
        "## Zero division error"
      ]
    },
    {
      "cell_type": "code",
      "execution_count": null,
      "metadata": {
        "id": "GjjFtAY_bAh8",
        "outputId": "46649420-6c1b-4866-b5cc-0589de20396c"
      },
      "outputs": [
        {
          "name": "stdout",
          "output_type": "stream",
          "text": [
            "0.0\n"
          ]
        }
      ],
      "source": [
        "x=int(input(\"enter the first number :\"))\n",
        "y=int(input(\"enter the second number :\"))\n",
        "z=x/y\n",
        "print(z)"
      ]
    },
    {
      "cell_type": "code",
      "execution_count": null,
      "metadata": {
        "id": "9FPzVW0HbAh8",
        "outputId": "9dc4a08c-4e07-44c0-fc38-bb4341f58341"
      },
      "outputs": [
        {
          "ename": "ZeroDivisionError",
          "evalue": "division by zero",
          "output_type": "error",
          "traceback": [
            "\u001b[1;31m---------------------------------------------------------------------------\u001b[0m",
            "\u001b[1;31mZeroDivisionError\u001b[0m                         Traceback (most recent call last)",
            "Cell \u001b[1;32mIn[13], line 3\u001b[0m\n\u001b[0;32m      1\u001b[0m x\u001b[38;5;241m=\u001b[39m\u001b[38;5;28mint\u001b[39m(\u001b[38;5;28minput\u001b[39m(\u001b[38;5;124m\"\u001b[39m\u001b[38;5;124menter the first number :\u001b[39m\u001b[38;5;124m\"\u001b[39m))\n\u001b[0;32m      2\u001b[0m y\u001b[38;5;241m=\u001b[39m\u001b[38;5;28mint\u001b[39m(\u001b[38;5;28minput\u001b[39m(\u001b[38;5;124m\"\u001b[39m\u001b[38;5;124menter the second number :\u001b[39m\u001b[38;5;124m\"\u001b[39m))\n\u001b[1;32m----> 3\u001b[0m z\u001b[38;5;241m=\u001b[39mx\u001b[38;5;241m/\u001b[39my\n\u001b[0;32m      4\u001b[0m \u001b[38;5;28mprint\u001b[39m(z)\n",
            "\u001b[1;31mZeroDivisionError\u001b[0m: division by zero"
          ]
        }
      ],
      "source": [
        "x=int(input(\"enter the first number :\"))\n",
        "y=int(input(\"enter the second number :\"))\n",
        "z=x/y\n",
        "print(z)"
      ]
    },
    {
      "cell_type": "code",
      "execution_count": null,
      "metadata": {
        "id": "49s6_heEbAh9",
        "outputId": "586874c0-4bc8-407c-a7fb-594dbe6aa7d9"
      },
      "outputs": [
        {
          "name": "stdout",
          "output_type": "stream",
          "text": [
            "zero division error\n"
          ]
        }
      ],
      "source": [
        "try:\n",
        "  x=int(input(\"enter the first number :\"))\n",
        "  y=int(input(\"enter the second number :\"))\n",
        "  z=x/y\n",
        "  print(z)\n",
        "except:\n",
        "  print(\"zero division error\")"
      ]
    },
    {
      "cell_type": "markdown",
      "metadata": {
        "id": "bZu1RF2jbAh9"
      },
      "source": [
        "## Index error"
      ]
    },
    {
      "cell_type": "code",
      "execution_count": null,
      "metadata": {
        "id": "Edyt8q00bAh9",
        "outputId": "844619cb-7d25-4259-e46b-1fe6c372d16a"
      },
      "outputs": [
        {
          "ename": "IndexError",
          "evalue": "list index out of range",
          "output_type": "error",
          "traceback": [
            "\u001b[1;31m---------------------------------------------------------------------------\u001b[0m",
            "\u001b[1;31mIndexError\u001b[0m                                Traceback (most recent call last)",
            "Cell \u001b[1;32mIn[15], line 2\u001b[0m\n\u001b[0;32m      1\u001b[0m x\u001b[38;5;241m=\u001b[39m[\u001b[38;5;241m1\u001b[39m,\u001b[38;5;241m2\u001b[39m,\u001b[38;5;241m3\u001b[39m,\u001b[38;5;241m4\u001b[39m,\u001b[38;5;241m5\u001b[39m]\n\u001b[1;32m----> 2\u001b[0m \u001b[38;5;28mprint\u001b[39m(x[\u001b[38;5;241m8\u001b[39m])\n",
            "\u001b[1;31mIndexError\u001b[0m: list index out of range"
          ]
        }
      ],
      "source": [
        "x=[1,2,3,4,5]\n",
        "print(x[8])"
      ]
    },
    {
      "cell_type": "code",
      "execution_count": null,
      "metadata": {
        "id": "l_8WzK-obAh9",
        "outputId": "226e0b83-246b-40a4-943e-3ca6c95e032a"
      },
      "outputs": [
        {
          "name": "stdout",
          "output_type": "stream",
          "text": [
            "enter the valid index\n"
          ]
        }
      ],
      "source": [
        "try:\n",
        "  x=[1,2,3,4,5]\n",
        "  print(x[8])\n",
        "except:\n",
        "  print(\"enter the valid index\")"
      ]
    },
    {
      "cell_type": "markdown",
      "metadata": {
        "id": "G7K-poqObAh-"
      },
      "source": [
        "## Key error"
      ]
    },
    {
      "cell_type": "code",
      "execution_count": null,
      "metadata": {
        "id": "LNXxGK9pbAh-",
        "outputId": "526e6b71-f640-4573-f668-485a00fe6751"
      },
      "outputs": [
        {
          "ename": "KeyError",
          "evalue": "'d'",
          "output_type": "error",
          "traceback": [
            "\u001b[1;31m---------------------------------------------------------------------------\u001b[0m",
            "\u001b[1;31mKeyError\u001b[0m                                  Traceback (most recent call last)",
            "Cell \u001b[1;32mIn[17], line 2\u001b[0m\n\u001b[0;32m      1\u001b[0m x\u001b[38;5;241m=\u001b[39m{\u001b[38;5;124m\"\u001b[39m\u001b[38;5;124ma\u001b[39m\u001b[38;5;124m\"\u001b[39m:\u001b[38;5;241m10\u001b[39m,\u001b[38;5;124m\"\u001b[39m\u001b[38;5;124mb\u001b[39m\u001b[38;5;124m\"\u001b[39m:\u001b[38;5;241m20\u001b[39m,\u001b[38;5;124m\"\u001b[39m\u001b[38;5;124mc\u001b[39m\u001b[38;5;124m\"\u001b[39m:\u001b[38;5;241m30\u001b[39m}\n\u001b[1;32m----> 2\u001b[0m \u001b[38;5;28mprint\u001b[39m(x[\u001b[38;5;124m\"\u001b[39m\u001b[38;5;124md\u001b[39m\u001b[38;5;124m\"\u001b[39m])\n",
            "\u001b[1;31mKeyError\u001b[0m: 'd'"
          ]
        }
      ],
      "source": [
        "x={\"a\":10,\"b\":20,\"c\":30}\n",
        "print(x[\"d\"])"
      ]
    },
    {
      "cell_type": "code",
      "execution_count": null,
      "metadata": {
        "id": "yvqmeubDbAh-",
        "outputId": "e6323138-fb29-430b-aa36-576ba4bd5809"
      },
      "outputs": [
        {
          "name": "stdout",
          "output_type": "stream",
          "text": [
            "enter the valid key\n"
          ]
        }
      ],
      "source": [
        "try:\n",
        "  x={\"a\":10,\"b\":20,\"c\":30}\n",
        "  print(x[\"d\"])\n",
        "except:\n",
        "  print(\"enter the valid key\")"
      ]
    },
    {
      "cell_type": "markdown",
      "metadata": {
        "id": "BkwYz0zJbAh-"
      },
      "source": [
        "## Type error"
      ]
    },
    {
      "cell_type": "code",
      "execution_count": null,
      "metadata": {
        "id": "iLj5-PmubAh-",
        "outputId": "ccb98952-cc6f-4d37-cea1-0b14e5920eae"
      },
      "outputs": [
        {
          "ename": "TypeError",
          "evalue": "can only concatenate str (not \"int\") to str",
          "output_type": "error",
          "traceback": [
            "\u001b[1;31m---------------------------------------------------------------------------\u001b[0m",
            "\u001b[1;31mTypeError\u001b[0m                                 Traceback (most recent call last)",
            "Cell \u001b[1;32mIn[19], line 2\u001b[0m\n\u001b[0;32m      1\u001b[0m x\u001b[38;5;241m=\u001b[39m\u001b[38;5;241m5\u001b[39m\n\u001b[1;32m----> 2\u001b[0m \u001b[38;5;28mprint\u001b[39m(\u001b[38;5;124m\"\u001b[39m\u001b[38;5;124mhello\u001b[39m\u001b[38;5;124m\"\u001b[39m\u001b[38;5;241m+\u001b[39mx)\n",
            "\u001b[1;31mTypeError\u001b[0m: can only concatenate str (not \"int\") to str"
          ]
        }
      ],
      "source": [
        "x=5\n",
        "print(\"hello\"+x)"
      ]
    },
    {
      "cell_type": "code",
      "execution_count": null,
      "metadata": {
        "id": "VuArVPzvbAh-",
        "outputId": "199a5e8a-1aea-4737-899d-ba89f4e963c6"
      },
      "outputs": [
        {
          "name": "stdout",
          "output_type": "stream",
          "text": [
            "enter the valid input\n"
          ]
        }
      ],
      "source": [
        "try:\n",
        "  x=5\n",
        "  print(\"hello\"+x)\n",
        "except:\n",
        "  print(\"enter the valid input\")"
      ]
    },
    {
      "cell_type": "markdown",
      "metadata": {
        "id": "SjO_8O-kbAh_"
      },
      "source": [
        "## Value error"
      ]
    },
    {
      "cell_type": "code",
      "execution_count": null,
      "metadata": {
        "id": "IrDHwB4qbAh_",
        "outputId": "1d8ba6ef-880c-47c9-a13d-3f5220a5a948"
      },
      "outputs": [
        {
          "ename": "ValueError",
          "evalue": "invalid literal for int() with base 10: 'swalih'",
          "output_type": "error",
          "traceback": [
            "\u001b[1;31m---------------------------------------------------------------------------\u001b[0m",
            "\u001b[1;31mValueError\u001b[0m                                Traceback (most recent call last)",
            "Cell \u001b[1;32mIn[21], line 1\u001b[0m\n\u001b[1;32m----> 1\u001b[0m x\u001b[38;5;241m=\u001b[39m\u001b[38;5;28mint\u001b[39m(\u001b[38;5;28minput\u001b[39m(\u001b[38;5;124m\"\u001b[39m\u001b[38;5;124menter the number :\u001b[39m\u001b[38;5;124m\"\u001b[39m))\n\u001b[0;32m      2\u001b[0m \u001b[38;5;28mprint\u001b[39m(x)\n",
            "\u001b[1;31mValueError\u001b[0m: invalid literal for int() with base 10: 'swalih'"
          ]
        }
      ],
      "source": [
        "x=int(input(\"enter the number :\"))\n",
        "print(x)"
      ]
    },
    {
      "cell_type": "code",
      "execution_count": null,
      "metadata": {
        "id": "-E8P8oXSbAh_",
        "outputId": "7fd3eb7f-0ab9-4b10-db15-0ee3b5567b54"
      },
      "outputs": [
        {
          "name": "stdout",
          "output_type": "stream",
          "text": [
            "enter the valid input\n"
          ]
        }
      ],
      "source": [
        "try:\n",
        "  x=int(input(\"enter the number :\"))\n",
        "  print(x)\n",
        "except:\n",
        "  print(\"enter the valid input\")"
      ]
    },
    {
      "cell_type": "code",
      "execution_count": null,
      "metadata": {
        "id": "pBugAqRabAh_"
      },
      "outputs": [],
      "source": []
    },
    {
      "cell_type": "code",
      "execution_count": null,
      "metadata": {
        "id": "OJmegEyRbAh_",
        "outputId": "f86acb91-e7b7-442a-9cdd-a943ea6222fb"
      },
      "outputs": [
        {
          "ename": "ZeroDivisionError",
          "evalue": "division by zero",
          "output_type": "error",
          "traceback": [
            "\u001b[1;31m---------------------------------------------------------------------------\u001b[0m",
            "\u001b[1;31mZeroDivisionError\u001b[0m                         Traceback (most recent call last)",
            "Cell \u001b[1;32mIn[23], line 3\u001b[0m\n\u001b[0;32m      1\u001b[0m x\u001b[38;5;241m=\u001b[39m\u001b[38;5;28mint\u001b[39m(\u001b[38;5;28minput\u001b[39m(\u001b[38;5;124m\"\u001b[39m\u001b[38;5;124menter the first number :\u001b[39m\u001b[38;5;124m\"\u001b[39m))\n\u001b[0;32m      2\u001b[0m y\u001b[38;5;241m=\u001b[39m\u001b[38;5;28mint\u001b[39m(\u001b[38;5;28minput\u001b[39m(\u001b[38;5;124m\"\u001b[39m\u001b[38;5;124menter the second number :\u001b[39m\u001b[38;5;124m\"\u001b[39m))\n\u001b[1;32m----> 3\u001b[0m z\u001b[38;5;241m=\u001b[39mx\u001b[38;5;241m/\u001b[39my\n\u001b[0;32m      4\u001b[0m \u001b[38;5;28mprint\u001b[39m(z)\n",
            "\u001b[1;31mZeroDivisionError\u001b[0m: division by zero"
          ]
        }
      ],
      "source": [
        "x=int(input(\"enter the first number :\"))\n",
        "y=int(input(\"enter the second number :\"))\n",
        "z=x/y\n",
        "print(z)"
      ]
    },
    {
      "cell_type": "code",
      "execution_count": null,
      "metadata": {
        "id": "NP2AtrA_bAh_",
        "outputId": "dcdc1ef8-1a41-454b-df6f-77fd3b4dc5cd"
      },
      "outputs": [
        {
          "ename": "ValueError",
          "evalue": "invalid literal for int() with base 10: 'swalih'",
          "output_type": "error",
          "traceback": [
            "\u001b[1;31m---------------------------------------------------------------------------\u001b[0m",
            "\u001b[1;31mValueError\u001b[0m                                Traceback (most recent call last)",
            "Cell \u001b[1;32mIn[24], line 2\u001b[0m\n\u001b[0;32m      1\u001b[0m x\u001b[38;5;241m=\u001b[39m\u001b[38;5;28mint\u001b[39m(\u001b[38;5;28minput\u001b[39m(\u001b[38;5;124m\"\u001b[39m\u001b[38;5;124menter the first number :\u001b[39m\u001b[38;5;124m\"\u001b[39m))\n\u001b[1;32m----> 2\u001b[0m y\u001b[38;5;241m=\u001b[39m\u001b[38;5;28mint\u001b[39m(\u001b[38;5;28minput\u001b[39m(\u001b[38;5;124m\"\u001b[39m\u001b[38;5;124menter the second number :\u001b[39m\u001b[38;5;124m\"\u001b[39m))\n\u001b[0;32m      3\u001b[0m z\u001b[38;5;241m=\u001b[39mx\u001b[38;5;241m/\u001b[39my\n\u001b[0;32m      4\u001b[0m \u001b[38;5;28mprint\u001b[39m(z)\n",
            "\u001b[1;31mValueError\u001b[0m: invalid literal for int() with base 10: 'swalih'"
          ]
        }
      ],
      "source": [
        "x=int(input(\"enter the first number :\"))\n",
        "y=int(input(\"enter the second number :\"))\n",
        "z=x/y\n",
        "print(z)"
      ]
    },
    {
      "cell_type": "code",
      "execution_count": null,
      "metadata": {
        "id": "jXJbi1yRbAh_",
        "outputId": "50adda67-2877-466d-a3b3-27808054899a"
      },
      "outputs": [
        {
          "name": "stdout",
          "output_type": "stream",
          "text": [
            "Zero division error\n"
          ]
        }
      ],
      "source": [
        "try:\n",
        "  x=int(input(\"enter the first number :\"))\n",
        "  y=int(input(\"enter the second number :\"))\n",
        "  z=x/y\n",
        "  print(z)\n",
        "except ZeroDivisionError:\n",
        "  print(\"Zero division error\")\n",
        "except ValueError:\n",
        "  print(\"value error\")"
      ]
    },
    {
      "cell_type": "markdown",
      "metadata": {
        "id": "ku495MmSbAh_"
      },
      "source": [
        "## Exception as e"
      ]
    },
    {
      "cell_type": "code",
      "execution_count": null,
      "metadata": {
        "id": "hJ33FtNkbAh_",
        "outputId": "ba1afd7d-8301-4f53-8cf9-654142ce8150"
      },
      "outputs": [
        {
          "name": "stdout",
          "output_type": "stream",
          "text": [
            "something went wrong : division by zero\n"
          ]
        }
      ],
      "source": [
        "try:\n",
        "  x=int(input(\"enter the first number :\"))\n",
        "  y=int(input(\"enter the second number :\"))\n",
        "  z=x/y\n",
        "  print(z)\n",
        "except Exception as e:\n",
        "  print(\"something went wrong :\",e)"
      ]
    },
    {
      "cell_type": "markdown",
      "metadata": {
        "id": "EwjsSH2BbAh_"
      },
      "source": [
        "## else"
      ]
    },
    {
      "cell_type": "code",
      "execution_count": null,
      "metadata": {
        "id": "fQ59m7mNbAh_",
        "outputId": "376cf92d-cba7-439c-ed61-98a1ead196d5"
      },
      "outputs": [
        {
          "name": "stdout",
          "output_type": "stream",
          "text": [
            "2.0\n",
            "code executed successfully\n"
          ]
        }
      ],
      "source": [
        "try:\n",
        "  a=int(input(\"enter the first number :\"))\n",
        "  b=int(input(\"enter the second number :\"))\n",
        "  c=a/b\n",
        "  print(c)\n",
        "except :\n",
        "  print(\"enter validd input :\")\n",
        "else:\n",
        "  print(\"code executed successfully\")"
      ]
    },
    {
      "cell_type": "markdown",
      "metadata": {
        "id": "daiKm7cZbAh_"
      },
      "source": [
        "## finally"
      ]
    },
    {
      "cell_type": "code",
      "execution_count": null,
      "metadata": {
        "id": "imY465YLbAh_",
        "outputId": "1a1bf5bc-64f1-4851-8a0a-e1efb2fbd08c"
      },
      "outputs": [
        {
          "name": "stdout",
          "output_type": "stream",
          "text": [
            "2.0\n",
            "code executed successfully\n"
          ]
        }
      ],
      "source": [
        "try:\n",
        "  a=int(input(\"enter the first number :\"))\n",
        "  b=int(input(\"enter the second number :\"))\n",
        "  c=a/b\n",
        "  print(c)\n",
        "finally:\n",
        "  print(\"code executed successfully\")"
      ]
    },
    {
      "cell_type": "code",
      "execution_count": null,
      "metadata": {
        "id": "ZI5wFvuobAh_",
        "outputId": "3c2f44e3-ff11-49e3-83a3-59095afff0cb"
      },
      "outputs": [
        {
          "name": "stdout",
          "output_type": "stream",
          "text": [
            "enter valid input :\n",
            "enter valid input :\n",
            "2.0\n"
          ]
        }
      ],
      "source": [
        "while True:\n",
        "  try:\n",
        "    x=int(input(\"enter the first number :\"))\n",
        "    y=int(input(\"enter the second number :\"))\n",
        "    z=x/y\n",
        "  except:\n",
        "    print(\"enter valid input :\")\n",
        "  else:\n",
        "    print(z)\n",
        "    break"
      ]
    },
    {
      "cell_type": "markdown",
      "metadata": {
        "id": "chyVMsCfbAiA"
      },
      "source": [
        "## handling specific exception"
      ]
    },
    {
      "cell_type": "code",
      "execution_count": null,
      "metadata": {
        "id": "j3MZfrH7bAiA",
        "outputId": "a3a1b766-bd1b-422e-a619-db79c37995dd"
      },
      "outputs": [
        {
          "name": "stdout",
          "output_type": "stream",
          "text": [
            "Zero division error\n"
          ]
        }
      ],
      "source": [
        "try:\n",
        "  a=int(input(\"enter the first number :\"))\n",
        "  b=int(input(\"enter the second number :\"))\n",
        "  c=a/b\n",
        "except ZeroDivisionError:\n",
        "  print(\"Zero division error\")\n",
        "except ValueError:\n",
        "  print(\"value error\")\n",
        "else:\n",
        "  print(c)"
      ]
    },
    {
      "cell_type": "code",
      "execution_count": null,
      "metadata": {
        "id": "WgGYK30AbAiA",
        "outputId": "c1d279cc-52b8-49e5-bf81-67ab5b4d95fc"
      },
      "outputs": [
        {
          "name": "stdout",
          "output_type": "stream",
          "text": [
            "Zero division error\n",
            "inner block finished\n",
            "outer block finished\n"
          ]
        }
      ],
      "source": [
        "try:\n",
        "  # outer try block to handle user input\n",
        "  x=int(input(\"enter the first number :\"))\n",
        "  y=int(input(\"enter the second number :\"))\n",
        "  try:\n",
        "    # inner try block to handle division\n",
        "    z=x/y\n",
        "    print(f\"result :{z}\")\n",
        "  except ZeroDivisionError:\n",
        "    print(\"Zero division error\")\n",
        "  finally:\n",
        "    print(\"inner block finished\")\n",
        "except ValueError:\n",
        "  print(\"value error\")\n",
        "finally:\n",
        "  print(\"outer block finished\")"
      ]
    },
    {
      "cell_type": "markdown",
      "metadata": {
        "id": "bmmXE3Z6bAiA"
      },
      "source": []
    },
    {
      "cell_type": "markdown",
      "metadata": {
        "id": "C4bmYO9mbAiA"
      },
      "source": [
        "## Raise an exception\n",
        "As a Python developer you can choose to throw an exception if a condition occurs.\n",
        "\n",
        "To throw (or raise) an exception, use the raise keyword."
      ]
    },
    {
      "cell_type": "code",
      "execution_count": null,
      "metadata": {
        "id": "DpSzSkJ7bAiA",
        "outputId": "40118926-0712-455f-fa3c-aa75877c2d55"
      },
      "outputs": [
        {
          "ename": "Exception",
          "evalue": "sorry,no numbers below zero",
          "output_type": "error",
          "traceback": [
            "\u001b[1;31m---------------------------------------------------------------------------\u001b[0m",
            "\u001b[1;31mException\u001b[0m                                 Traceback (most recent call last)",
            "Cell \u001b[1;32mIn[33], line 3\u001b[0m\n\u001b[0;32m      1\u001b[0m x\u001b[38;5;241m=\u001b[39m\u001b[38;5;28mint\u001b[39m(\u001b[38;5;28minput\u001b[39m(\u001b[38;5;124m\"\u001b[39m\u001b[38;5;124menter the number :\u001b[39m\u001b[38;5;124m\"\u001b[39m))\n\u001b[0;32m      2\u001b[0m \u001b[38;5;28;01mif\u001b[39;00m x \u001b[38;5;241m<\u001b[39m \u001b[38;5;241m0\u001b[39m:\n\u001b[1;32m----> 3\u001b[0m   \u001b[38;5;28;01mraise\u001b[39;00m \u001b[38;5;167;01mException\u001b[39;00m(\u001b[38;5;124m\"\u001b[39m\u001b[38;5;124msorry,no numbers below zero\u001b[39m\u001b[38;5;124m\"\u001b[39m)\n\u001b[0;32m      4\u001b[0m \u001b[38;5;28mprint\u001b[39m(x)\n",
            "\u001b[1;31mException\u001b[0m: sorry,no numbers below zero"
          ]
        }
      ],
      "source": [
        "x=int(input(\"enter the number :\"))\n",
        "if x < 0:\n",
        "  raise Exception(\"sorry,no numbers below zero\")\n",
        "print(x)"
      ]
    },
    {
      "cell_type": "code",
      "execution_count": null,
      "metadata": {
        "id": "oLzZQY4KbAiA",
        "outputId": "b51b2e06-c97c-4b44-bba3-5241b43468fe"
      },
      "outputs": [
        {
          "ename": "Exception",
          "evalue": "sorry,",
          "output_type": "error",
          "traceback": [
            "\u001b[1;31m---------------------------------------------------------------------------\u001b[0m",
            "\u001b[1;31mException\u001b[0m                                 Traceback (most recent call last)",
            "Cell \u001b[1;32mIn[34], line 4\u001b[0m\n\u001b[0;32m      2\u001b[0m y\u001b[38;5;241m=\u001b[39m\u001b[38;5;28mint\u001b[39m(\u001b[38;5;28minput\u001b[39m(\u001b[38;5;124m\"\u001b[39m\u001b[38;5;124menter the second number :\u001b[39m\u001b[38;5;124m\"\u001b[39m))\n\u001b[0;32m      3\u001b[0m \u001b[38;5;28;01mif\u001b[39;00m y \u001b[38;5;241m==\u001b[39m \u001b[38;5;241m0\u001b[39m:\n\u001b[1;32m----> 4\u001b[0m   \u001b[38;5;28;01mraise\u001b[39;00m \u001b[38;5;167;01mException\u001b[39;00m(\u001b[38;5;124m\"\u001b[39m\u001b[38;5;124msorry,\u001b[39m\u001b[38;5;124m\"\u001b[39m)\n\u001b[0;32m      5\u001b[0m   z\u001b[38;5;241m=\u001b[39mx\u001b[38;5;241m/\u001b[39my\n\u001b[0;32m      6\u001b[0m \u001b[38;5;28mprint\u001b[39m(z)\n",
            "\u001b[1;31mException\u001b[0m: sorry,"
          ]
        }
      ],
      "source": [
        "x=int(input(\"enter the first number :\"))\n",
        "y=int(input(\"enter the second number :\"))\n",
        "if y == 0:\n",
        "  raise Exception(\"sorry,\")\n",
        "  z=x/y\n",
        "print(z)"
      ]
    },
    {
      "cell_type": "code",
      "execution_count": null,
      "metadata": {
        "id": "sNt9eumfbAiA",
        "outputId": "8b0e93ec-1367-4250-af73-fbfdad3f36df"
      },
      "outputs": [
        {
          "ename": "Exception",
          "evalue": "overspeeding! slow down.",
          "output_type": "error",
          "traceback": [
            "\u001b[1;31m---------------------------------------------------------------------------\u001b[0m",
            "\u001b[1;31mException\u001b[0m                                 Traceback (most recent call last)",
            "Cell \u001b[1;32mIn[1], line 4\u001b[0m\n\u001b[0;32m      1\u001b[0m speed\u001b[38;5;241m=\u001b[39m\u001b[38;5;28mint\u001b[39m(\u001b[38;5;28minput\u001b[39m(\u001b[38;5;124m\"\u001b[39m\u001b[38;5;124menter the car\u001b[39m\u001b[38;5;124m'\u001b[39m\u001b[38;5;124ms speed (km/h): \u001b[39m\u001b[38;5;124m\"\u001b[39m))\n\u001b[0;32m      3\u001b[0m \u001b[38;5;28;01mif\u001b[39;00m speed \u001b[38;5;241m>\u001b[39m \u001b[38;5;241m120\u001b[39m :\n\u001b[1;32m----> 4\u001b[0m     \u001b[38;5;28;01mraise\u001b[39;00m \u001b[38;5;167;01mException\u001b[39;00m(\u001b[38;5;124m\"\u001b[39m\u001b[38;5;124moverspeeding! slow down.\u001b[39m\u001b[38;5;124m\"\u001b[39m)\n\u001b[0;32m      5\u001b[0m \u001b[38;5;28;01melif\u001b[39;00m speed \u001b[38;5;241m<\u001b[39m \u001b[38;5;241m20\u001b[39m:\n\u001b[0;32m      6\u001b[0m     \u001b[38;5;28;01mraise\u001b[39;00m \u001b[38;5;167;01mException\u001b[39;00m(\u001b[38;5;124m\"\u001b[39m\u001b[38;5;124mdrive too slow! speed up.\u001b[39m\u001b[38;5;124m\"\u001b[39m)\n",
            "\u001b[1;31mException\u001b[0m: overspeeding! slow down."
          ]
        }
      ],
      "source": [
        "speed=int(input(\"enter the car's speed (km/h): \"))\n",
        "\n",
        "if speed > 120 :\n",
        "    raise Exception(\"overspeeding! slow down.\")\n",
        "elif speed < 20:\n",
        "    raise Exception(\"drive too slow! speed up.\")\n",
        "else:\n",
        "    print(f\"speed{speed} km/h is within the acceptable range.\")"
      ]
    },
    {
      "cell_type": "markdown",
      "metadata": {
        "id": "3FH5HhXSbAiA"
      },
      "source": [
        "### creating an error"
      ]
    },
    {
      "cell_type": "code",
      "execution_count": null,
      "metadata": {
        "id": "TL_D1dSFbAiA",
        "outputId": "1d3b16ee-f58a-4d9c-d504-5ad84f2abc23"
      },
      "outputs": [
        {
          "name": "stdout",
          "output_type": "stream",
          "text": [
            "eigible to vote\n"
          ]
        }
      ],
      "source": [
        "class AgeError(Exception):\n",
        "    'raise when person age is less than 18'\n",
        "    pass\n",
        "try:\n",
        "    age=int(input(\"enter the age : \"))\n",
        "    if age < 18:\n",
        "        raise AgeError\n",
        "\n",
        "except AgeError:\n",
        "    print(\"not eligible to vote\")\n",
        "else:\n",
        "    print(\"eigible to vote\")"
      ]
    },
    {
      "cell_type": "code",
      "execution_count": null,
      "metadata": {
        "id": "hGWHftaWbAiA"
      },
      "outputs": [],
      "source": []
    },
    {
      "cell_type": "code",
      "execution_count": null,
      "metadata": {
        "colab": {
          "base_uri": "https://localhost:8080/"
        },
        "id": "YG_rr6KgbAiA",
        "outputId": "01aa002c-7dee-480b-c955-dcf711b84f7d"
      },
      "outputs": [
        {
          "output_type": "stream",
          "name": "stdout",
          "text": [
            "enter the age : 32\n",
            "your young\n"
          ]
        }
      ],
      "source": [
        "from mmap import ACCESS_READ\n",
        "class Adult_error(Exception):\n",
        "    'raise when person age is less than 18'\n",
        "    pass\n",
        "try:\n",
        "    age=int(input(\"enter the age : \"))\n",
        "    if age > 50:\n",
        "        raise Adult_error\n",
        "except Adult_error:\n",
        "    print(\"your adult\")\n",
        "else:\n",
        "    print(\"your young\")\n",
        "\n"
      ]
    },
    {
      "cell_type": "code",
      "source": [],
      "metadata": {
        "id": "r-OZYsl2dQcS"
      },
      "execution_count": null,
      "outputs": []
    }
  ],
  "metadata": {
    "kernelspec": {
      "display_name": "base",
      "language": "python",
      "name": "python3"
    },
    "language_info": {
      "codemirror_mode": {
        "name": "ipython",
        "version": 3
      },
      "file_extension": ".py",
      "mimetype": "text/x-python",
      "name": "python",
      "nbconvert_exporter": "python",
      "pygments_lexer": "ipython3",
      "version": "3.12.4"
    },
    "colab": {
      "provenance": []
    }
  },
  "nbformat": 4,
  "nbformat_minor": 0
}