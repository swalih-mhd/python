{
  "cells": [
    {
      "cell_type": "code",
      "execution_count": null,
      "metadata": {
        "colab": {
          "base_uri": "https://localhost:8080/"
        },
        "id": "wV9ZlcmDFLLJ",
        "outputId": "af62575a-7954-49b8-da8e-cbce4158954d"
      },
      "outputs": [
        {
          "output_type": "stream",
          "name": "stdout",
          "text": [
            "enter a number: 11\n",
            "11 is odd odd number\n"
          ]
        }
      ],
      "source": [
        "# 1- odd or even\n",
        "x=int(input(\"enter a number: \"))\n",
        "if x%2:\n",
        "    print(f\"{x} is odd odd number\")\n",
        "else:\n",
        "    print(f\"{x} is even number\")"
      ]
    },
    {
      "cell_type": "code",
      "execution_count": null,
      "metadata": {
        "colab": {
          "base_uri": "https://localhost:8080/"
        },
        "id": "Ehvc05VNHNwP",
        "outputId": "a6f29e96-7c1b-414c-af5e-e00b6a201ac9"
      },
      "outputs": [
        {
          "name": "stdout",
          "output_type": "stream",
          "text": [
            "enter a number0\n",
            "0 is negative\n"
          ]
        }
      ],
      "source": [
        "# 2- positive or negative\n",
        "x=int(input(\"enter a number\"))\n",
        "if x>0:\n",
        "    print(f\"{x} is positive\")\n",
        "elif x<0:\n",
        "    print(f\"{x} is negative\")\n",
        "else:\n",
        "    print(f\"{x} is negative\")"
      ]
    },
    {
      "cell_type": "code",
      "execution_count": null,
      "metadata": {
        "colab": {
          "base_uri": "https://localhost:8080/"
        },
        "id": "BvuXiQmmJQdQ",
        "outputId": "f3f0fb03-4f49-480f-fc5e-b0ee722da4f1"
      },
      "outputs": [
        {
          "output_type": "stream",
          "name": "stdout",
          "text": [
            "enter the age: 20\n",
            "20 is addult\n"
          ]
        }
      ],
      "source": [
        "# 3- age check\n",
        "x=int(input(\"enter the age: \"))\n",
        "if x>=18 and x<60:\n",
        "  print(f\"{x} is addult\")\n",
        "elif x<18:\n",
        "  print(f\"{x} is minor\")\n",
        "else:\n",
        "  print(f\"{x} is cityzen\")\n"
      ]
    },
    {
      "cell_type": "code",
      "source": [
        "# 4- largest of two numbers\n",
        "x=int(input(\"enter a number: \"))\n",
        "y=int(input(\"enter a number: \"))\n",
        "if x>y:\n",
        "  print(f\"{x} is largest\")\n",
        "else:\n",
        "  print(f\"{y} is largest\")"
      ],
      "metadata": {
        "colab": {
          "base_uri": "https://localhost:8080/"
        },
        "id": "eC-JNuVSB1ts",
        "outputId": "c4fb2cd4-43e0-4c49-d7b2-b3edcd47937e"
      },
      "execution_count": null,
      "outputs": [
        {
          "output_type": "stream",
          "name": "stdout",
          "text": [
            "enter a number: 5\n",
            "enter a number: 8\n",
            "8 is largest\n"
          ]
        }
      ]
    },
    {
      "cell_type": "code",
      "source": [
        "# 5- grade classification\n",
        "x=int(input(\"enter the score: \"))\n",
        "if x>=90 and x<=100:\n",
        "  print(\"A\")\n",
        "elif x>=80 and x<90:\n",
        "  print(\"B\")\n",
        "elif x>=70 and x<80:\n",
        "  print(\"C\")\n",
        "elif x>=60 and x<70:\n",
        "  print(\"D\")\n",
        "elif x>=50 and x<60:\n",
        "  print(\"e\")\n",
        "else:\n",
        "  print(\"grade not accepted\")"
      ],
      "metadata": {
        "colab": {
          "base_uri": "https://localhost:8080/"
        },
        "id": "DBmNhii0C8nM",
        "outputId": "e2db3f60-b0a2-4da8-be25-e2d609cb0f50"
      },
      "execution_count": null,
      "outputs": [
        {
          "output_type": "stream",
          "name": "stdout",
          "text": [
            "enter the score: 40\n",
            "grade not accepted\n"
          ]
        }
      ]
    },
    {
      "cell_type": "code",
      "source": [
        "# 6- leap year\n",
        "x=int(input(\"enter a year\"))\n",
        "if x % 4==0 and (x % 100 !=0 or x%400==0):\n",
        "  print(f\"{x} is leap year\")\n",
        "else:\n",
        "  print(f\"{x} not leap year\")"
      ],
      "metadata": {
        "colab": {
          "base_uri": "https://localhost:8080/"
        },
        "id": "vxvl1-JWE1Wt",
        "outputId": "2423b4bd-20d5-41c1-9353-0ed049e0cbfe"
      },
      "execution_count": null,
      "outputs": [
        {
          "output_type": "stream",
          "name": "stdout",
          "text": [
            "enter a year2028\n",
            "2028 is leap year\n"
          ]
        }
      ]
    },
    {
      "cell_type": "code",
      "source": [
        "# 7- vowel or consonant\n",
        "x=(input(\"enter the letter: \"))\n",
        "vowels=\"aeiouAEIOU\"\n",
        "if x in vowels:\n",
        "  print(\"letter is vowel\")\n",
        "else:\n",
        "  print(\"letter is consonant\")"
      ],
      "metadata": {
        "colab": {
          "base_uri": "https://localhost:8080/"
        },
        "id": "JJNj3XwSFEiz",
        "outputId": "0f390e20-54c7-4ed0-da2b-2a916c7fd4a0"
      },
      "execution_count": null,
      "outputs": [
        {
          "output_type": "stream",
          "name": "stdout",
          "text": [
            "enter the letter: F\n",
            "letter is consonant\n"
          ]
        }
      ]
    },
    {
      "cell_type": "code",
      "execution_count": null,
      "metadata": {
        "colab": {
          "base_uri": "https://localhost:8080/"
        },
        "id": "NOk1xSNzOgzI",
        "outputId": "f96f25db-3a77-4976-eaca-7956e30b9b3d"
      },
      "outputs": [
        {
          "output_type": "stream",
          "name": "stdout",
          "text": [
            "enter the age: 10\n",
            "10 not eligible for vote\n"
          ]
        }
      ],
      "source": [
        "# 8- eligible to vote\n",
        "a=int(input(\"enter the age: \"))\n",
        "if a>=18:\n",
        "  print(f\"{a} eligible for vote\")\n",
        "else:\n",
        "  print(f\"{a} not eligible for vote\")"
      ]
    },
    {
      "cell_type": "code",
      "source": [
        "# 9- divisible by 5 and 11\n",
        "a=int(input(\"enter a number: \"))\n",
        "if a%5==0 or a%11==0:\n",
        "  print(f\"{a} is divisible by 5 and 11\")\n",
        "else:\n",
        "  print(f\"{a} not divisible\")\n"
      ],
      "metadata": {
        "id": "PEjWS62PFMoj"
      },
      "execution_count": null,
      "outputs": []
    },
    {
      "cell_type": "code",
      "source": [
        "# 10- triangle type\n",
        "a=int(input(\"enter the length of side1: \"))\n",
        "b=int(input(\"enter the length of side2: \"))\n",
        "c=int(input(\"enter the length of side3: \"))\n",
        "if a==b==c:\n",
        "  print(\"equlater triangle\")\n",
        "elif a==b or a==c or b==c:\n",
        "  print(\"isosceles triangle\")\n",
        "else:\n",
        "  print(\"scalene\")"
      ],
      "metadata": {
        "id": "W1Xkyhw2FYMr",
        "colab": {
          "base_uri": "https://localhost:8080/"
        },
        "outputId": "f926ec8c-6718-4996-ee7f-3b66dfc1cfb1"
      },
      "execution_count": null,
      "outputs": [
        {
          "output_type": "stream",
          "name": "stdout",
          "text": [
            "enter the length of side1: 5\n",
            "enter the length of side2: 6\n",
            "enter the length of side3: 7\n",
            "scalene\n"
          ]
        }
      ]
    }
  ],
  "metadata": {
    "colab": {
      "provenance": []
    },
    "kernelspec": {
      "display_name": "Python 3",
      "name": "python3"
    },
    "language_info": {
      "name": "python"
    }
  },
  "nbformat": 4,
  "nbformat_minor": 0
}