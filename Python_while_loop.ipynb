{
  "nbformat": 4,
  "nbformat_minor": 0,
  "metadata": {
    "colab": {
      "provenance": []
    },
    "kernelspec": {
      "name": "python3",
      "display_name": "Python 3"
    },
    "language_info": {
      "name": "python"
    }
  },
  "cells": [
    {
      "cell_type": "markdown",
      "source": [
        "### 1. Countdown: Write a program that uses a while loop to print the numbers from 10 down to 1."
      ],
      "metadata": {
        "id": "pKMrxZMwj1ld"
      }
    },
    {
      "cell_type": "code",
      "execution_count": null,
      "metadata": {
        "colab": {
          "base_uri": "https://localhost:8080/"
        },
        "id": "IrD1yeLvDmYk",
        "outputId": "cc8eee73-7f88-4ab4-9855-278e8f7de2dd"
      },
      "outputs": [
        {
          "output_type": "stream",
          "name": "stdout",
          "text": [
            "10\n",
            "9\n",
            "8\n",
            "7\n",
            "6\n",
            "5\n",
            "4\n",
            "3\n",
            "2\n",
            "1\n",
            "0\n"
          ]
        }
      ],
      "source": [
        "i=10\n",
        "while i>=0:\n",
        "  print(i)\n",
        "  i=i-1"
      ]
    },
    {
      "cell_type": "markdown",
      "source": [
        "### 2. Sum of Numbers: Write a program that uses a while loop to calculate the sum of the first 50 natural numbers. 3."
      ],
      "metadata": {
        "id": "dl7KdKC2j9E8"
      }
    },
    {
      "cell_type": "code",
      "source": [
        "n=50\n",
        "sum=0\n",
        "i=1\n",
        "while i<=n:\n",
        "  sum=sum+i\n",
        "  i=i+1\n",
        "print(\"sum of first 50 natural numbers:\",sum)"
      ],
      "metadata": {
        "colab": {
          "base_uri": "https://localhost:8080/"
        },
        "id": "PjFS8_j3EGSm",
        "outputId": "f6179e18-39f2-4eb9-c2f8-0e53b0d11044"
      },
      "execution_count": null,
      "outputs": [
        {
          "output_type": "stream",
          "name": "stdout",
          "text": [
            "sum of first 50 natural numbers: 1275\n"
          ]
        }
      ]
    },
    {
      "cell_type": "code",
      "source": [
        "n=5\n",
        "sum=0\n",
        "i=1\n",
        "while i<=n:\n",
        " sum=sum+i\n",
        " i=i+1\n",
        "print(\"sum of first 10 natural numbers: \",sum)"
      ],
      "metadata": {
        "colab": {
          "base_uri": "https://localhost:8080/"
        },
        "id": "fkh1OhWTI9gl",
        "outputId": "f17fd506-122d-4521-f802-ccf4c60a4c9f"
      },
      "execution_count": null,
      "outputs": [
        {
          "output_type": "stream",
          "name": "stdout",
          "text": [
            "sum of first 10 natural numbers:  15\n"
          ]
        }
      ]
    },
    {
      "cell_type": "markdown",
      "source": [
        "### 3.Factorial Calculation: Write a program that uses a while loop to calculate the factorial of a given number."
      ],
      "metadata": {
        "id": "g9fSYqoEkHwE"
      }
    },
    {
      "cell_type": "code",
      "source": [
        "num=int(input(\"enter a number: \"))\n",
        "factorial=1\n",
        "i=1\n",
        "while i<=num:\n",
        "  factorial *=i\n",
        "  i+=1\n",
        "print(\"factorial 0f\",num,\"is\",factorial)\n"
      ],
      "metadata": {
        "id": "bQ9NWIXIFbwD",
        "colab": {
          "base_uri": "https://localhost:8080/"
        },
        "outputId": "545d71e0-58cf-4097-898a-4b609aca0aaf"
      },
      "execution_count": null,
      "outputs": [
        {
          "output_type": "stream",
          "name": "stdout",
          "text": [
            "enter a number: 5\n",
            "factorial 0f 5 is 120\n"
          ]
        }
      ]
    },
    {
      "cell_type": "code",
      "source": [
        "num=int(input(\"enter a number: \"))\n",
        "factorial=1\n",
        "i=1\n",
        "while i<=num:\n",
        "  factorial=factorial*i\n",
        "  i=i+1\n",
        "print(\"factorial 0f\",num,\"is\",factorial)\n"
      ],
      "metadata": {
        "colab": {
          "base_uri": "https://localhost:8080/"
        },
        "id": "Wb8NpIXIIGeY",
        "outputId": "8ff6842b-2c5c-4e7f-ff2c-da0b49b3ef8c"
      },
      "execution_count": null,
      "outputs": [
        {
          "output_type": "stream",
          "name": "stdout",
          "text": [
            "enter a number: 5\n",
            "factorial 0f 5 is 120\n"
          ]
        }
      ]
    },
    {
      "cell_type": "markdown",
      "source": [
        "### 4. Even Numbers: Write a program that uses a while loop to print the first 10 even numbers."
      ],
      "metadata": {
        "id": "2vxAASB3kMal"
      }
    },
    {
      "cell_type": "code",
      "source": [
        "i=2\n",
        "while i<=20:\n",
        "  print(i)\n",
        "  i=i+2"
      ],
      "metadata": {
        "colab": {
          "base_uri": "https://localhost:8080/"
        },
        "id": "Y__z0ACOE-xu",
        "outputId": "fa6b09b6-3eda-4b64-c3e2-9b539097a899"
      },
      "execution_count": null,
      "outputs": [
        {
          "output_type": "stream",
          "name": "stdout",
          "text": [
            "2\n",
            "4\n",
            "6\n",
            "8\n",
            "10\n",
            "12\n",
            "14\n",
            "16\n",
            "18\n",
            "20\n"
          ]
        }
      ]
    },
    {
      "cell_type": "markdown",
      "source": [
        "### 5. User Input Until Quit: Write a program that repeatedly asks the user to enter a word until the user types \"quit\"."
      ],
      "metadata": {
        "id": "pYHaMNsvkajc"
      }
    },
    {
      "cell_type": "code",
      "source": [
        "word=\"\"\n",
        "while word !=\"quit\":\n",
        "  word=input(\"enter a word: \")\n",
        "print(word)"
      ],
      "metadata": {
        "id": "9Qzqzdk3FQJU",
        "colab": {
          "base_uri": "https://localhost:8080/"
        },
        "outputId": "17f80773-9bcb-4b57-d454-d407593ef16f"
      },
      "execution_count": null,
      "outputs": [
        {
          "output_type": "stream",
          "name": "stdout",
          "text": [
            "enter a word: jugy\n",
            "enter a word: ui\n",
            "enter a word: jhkhj\n",
            "enter a word: quit\n",
            "quit\n"
          ]
        }
      ]
    },
    {
      "cell_type": "markdown",
      "source": [
        "### 6.Guess the Number: Write a simple number guessing game using a while loop where the user has to guess a predefined number between 1 and 10."
      ],
      "metadata": {
        "id": "H-DvFXgLkr6s"
      }
    },
    {
      "cell_type": "code",
      "source": [
        "import random\n",
        "number=random.randint(1,10)\n",
        "guess=0\n",
        "while guess != number:\n",
        "  guess=int(input(\"guess a number between 1 and 10: \"))\n",
        "  if guess < number:\n",
        "    print(\"too low!\")\n",
        "  elif guess > number:\n",
        "    print(\"too high!\")\n",
        "print(\"you guessed it! the number was\",number)"
      ],
      "metadata": {
        "colab": {
          "base_uri": "https://localhost:8080/"
        },
        "id": "bCq1cIR1Lrzo",
        "outputId": "c97350a3-50e6-4e4d-8a77-aa3c600faca9"
      },
      "execution_count": null,
      "outputs": [
        {
          "output_type": "stream",
          "name": "stdout",
          "text": [
            "guess a number between 1 and 10: 7\n",
            "too low!\n",
            "guess a number between 1 and 10: 8\n",
            "too low!\n",
            "guess a number between 1 and 10: 9\n",
            "you guessed it! the number was 9\n"
          ]
        }
      ]
    },
    {
      "cell_type": "markdown",
      "source": [
        "### 7. Reverse Digits: Write a program that uses a while loop to reverse the digits of a given integer."
      ],
      "metadata": {
        "id": "XRA1vVKTk1k8"
      }
    },
    {
      "cell_type": "code",
      "source": [
        "num=int(input(\"enter a number: \"))\n",
        "reversed_num=0\n",
        "while num>0:\n",
        "  digit=num%10\n",
        "  reversed_num=reversed_num*10+digit\n",
        "  num//=10\n",
        "print(\"reversed number:\",reversed_num)\n"
      ],
      "metadata": {
        "colab": {
          "base_uri": "https://localhost:8080/"
        },
        "id": "yv1Z8--pQDkJ",
        "outputId": "fe4adb27-f3f2-410d-9b62-6e8f706250f5"
      },
      "execution_count": null,
      "outputs": [
        {
          "output_type": "stream",
          "name": "stdout",
          "text": [
            "enter a number: 999\n",
            "reversed number: 999\n"
          ]
        }
      ]
    },
    {
      "cell_type": "code",
      "source": [
        "num=int(input(\"enter a number: \"))\n",
        "reversed_num=0\n",
        "while num>0:\n",
        "  # removing last digit\n",
        "  digit=num%10\n",
        "  # rversing the number,adjusting the poistion and adding the last digit\n",
        "  reversed_num=reversed_num*10+digit\n",
        "  # removing the last digit\n",
        "  num=num//10\n",
        "print(\"reversed number:\",reversed_num)\n"
      ],
      "metadata": {
        "colab": {
          "base_uri": "https://localhost:8080/"
        },
        "id": "wdD-MnMRXWS4",
        "outputId": "c176ce47-7467-4e52-d608-a7af60453594"
      },
      "execution_count": null,
      "outputs": [
        {
          "output_type": "stream",
          "name": "stdout",
          "text": [
            "enter a number: 3444455555\n",
            "reversed number: 5555544443\n"
          ]
        }
      ]
    },
    {
      "cell_type": "markdown",
      "source": [
        "### 8. Multiplication Table: Write a program that uses a while loop to print the multiplication table of a given number up to 10."
      ],
      "metadata": {
        "id": "MbTX5c3Wk8XE"
      }
    },
    {
      "cell_type": "code",
      "source": [
        "num=int(input(\"enter a number: \"))\n",
        "i=1\n",
        "while i<=10:\n",
        "  print(num,\"x\",i,\"=\",num*i)\n",
        "  i+=1"
      ],
      "metadata": {
        "colab": {
          "base_uri": "https://localhost:8080/"
        },
        "id": "grEPt4SVgaWw",
        "outputId": "5e6cdb08-6698-43eb-ab2c-e3016985038d"
      },
      "execution_count": null,
      "outputs": [
        {
          "output_type": "stream",
          "name": "stdout",
          "text": [
            "enter a number: 7\n",
            "7 x 1 = 7\n",
            "7 x 2 = 14\n",
            "7 x 3 = 21\n",
            "7 x 4 = 28\n",
            "7 x 5 = 35\n",
            "7 x 6 = 42\n",
            "7 x 7 = 49\n",
            "7 x 8 = 56\n",
            "7 x 9 = 63\n",
            "7 x 10 = 70\n"
          ]
        }
      ]
    },
    {
      "cell_type": "markdown",
      "source": [
        "### 9. Sum of Digits: Write a program that uses a while loop to calculate the sum of the digits of a given number."
      ],
      "metadata": {
        "id": "QsnYd4aXlEFs"
      }
    },
    {
      "cell_type": "code",
      "source": [
        "num=int(input(\"enter a number:\"))\n",
        "sum=0\n",
        "while num>0:\n",
        "  digit=num%10\n",
        "  sum=sum + digit\n",
        "  num//=10\n",
        "print(\"sum of digits:\",sum)\n"
      ],
      "metadata": {
        "colab": {
          "base_uri": "https://localhost:8080/"
        },
        "id": "aa454TcNih66",
        "outputId": "dc7396c3-4a06-40fd-c296-4c2f7f775e72"
      },
      "execution_count": null,
      "outputs": [
        {
          "output_type": "stream",
          "name": "stdout",
          "text": [
            "enter a number:35\n",
            "sum of digits: 8\n"
          ]
        }
      ]
    },
    {
      "cell_type": "code",
      "source": [
        "num=int(input(\"enter a number:\"))\n",
        "sum=0\n",
        "while num>0:\n",
        "  #extract the last digit\n",
        "  digit=num%10\n",
        "  #add the digit to the sum\n",
        "  sum=sum + digit\n",
        "  #remove the last digit from the original number\n",
        "  num//=10\n",
        "print(\"sum of digits:\",sum)"
      ],
      "metadata": {
        "colab": {
          "base_uri": "https://localhost:8080/"
        },
        "id": "zklJFrEMl3Hv",
        "outputId": "31507684-ad43-42e4-f101-7682103b85d7"
      },
      "execution_count": null,
      "outputs": [
        {
          "output_type": "stream",
          "name": "stdout",
          "text": [
            "enter a number:56\n",
            "sum of digits: 11\n"
          ]
        }
      ]
    },
    {
      "cell_type": "markdown",
      "source": [
        "### 10.Fibonacci Series: Write a program that uses a while loop to generate the first 10 numbers of the Fibonacci series."
      ],
      "metadata": {
        "id": "N2Gk5CUjlKJ8"
      }
    },
    {
      "cell_type": "code",
      "source": [
        "num1,num2=0,1\n",
        "count=0\n",
        "\n",
        "print(\"fibonacci series:\")\n",
        "while count < 10:\n",
        "  print(num1,end=\",\")\n",
        "  nth = num1 + num2\n",
        "  num1=num2\n",
        "  num2=nth\n",
        "  count+=1\n"
      ],
      "metadata": {
        "colab": {
          "base_uri": "https://localhost:8080/"
        },
        "id": "0_kEbmYgn6MA",
        "outputId": "257bef29-3a0e-4e1f-c14f-df0872f7281d"
      },
      "execution_count": null,
      "outputs": [
        {
          "output_type": "stream",
          "name": "stdout",
          "text": [
            "fibonacci series:\n",
            "0,1,1,2,3,5,8,13,21,34,"
          ]
        }
      ]
    }
  ]
}