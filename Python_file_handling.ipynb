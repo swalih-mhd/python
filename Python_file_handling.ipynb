{
  "nbformat": 4,
  "nbformat_minor": 0,
  "metadata": {
    "colab": {
      "provenance": []
    },
    "kernelspec": {
      "name": "python3",
      "display_name": "Python 3"
    },
    "language_info": {
      "name": "python"
    }
  },
  "cells": [
    {
      "cell_type": "code",
      "source": [
        "open(\"File_Handling1\",\"r\")"
      ],
      "metadata": {
        "colab": {
          "base_uri": "https://localhost:8080/",
          "height": 141
        },
        "id": "1bM8rMbub3Li",
        "outputId": "a5f5a36c-b0fe-460b-ccd1-75b7e8f8803e"
      },
      "execution_count": 1,
      "outputs": [
        {
          "output_type": "error",
          "ename": "FileNotFoundError",
          "evalue": "[Errno 2] No such file or directory: 'File_Handling1'",
          "traceback": [
            "\u001b[0;31m---------------------------------------------------------------------------\u001b[0m",
            "\u001b[0;31mFileNotFoundError\u001b[0m                         Traceback (most recent call last)",
            "\u001b[0;32m<ipython-input-1-8f0950eb8a12>\u001b[0m in \u001b[0;36m<cell line: 0>\u001b[0;34m()\u001b[0m\n\u001b[0;32m----> 1\u001b[0;31m \u001b[0mopen\u001b[0m\u001b[0;34m(\u001b[0m\u001b[0;34m\"File_Handling1\"\u001b[0m\u001b[0;34m,\u001b[0m\u001b[0;34m\"r\"\u001b[0m\u001b[0;34m)\u001b[0m\u001b[0;34m\u001b[0m\u001b[0;34m\u001b[0m\u001b[0m\n\u001b[0m",
            "\u001b[0;31mFileNotFoundError\u001b[0m: [Errno 2] No such file or directory: 'File_Handling1'"
          ]
        }
      ]
    },
    {
      "cell_type": "code",
      "source": [
        "open(\"File_Handling1\",\"r\")"
      ],
      "metadata": {
        "colab": {
          "base_uri": "https://localhost:8080/",
          "height": 141
        },
        "id": "7AD6UyX_cugW",
        "outputId": "831a73f4-2174-4037-ecf2-3631f926fae8"
      },
      "execution_count": 2,
      "outputs": [
        {
          "output_type": "error",
          "ename": "FileNotFoundError",
          "evalue": "[Errno 2] No such file or directory: 'File_Handling1'",
          "traceback": [
            "\u001b[0;31m---------------------------------------------------------------------------\u001b[0m",
            "\u001b[0;31mFileNotFoundError\u001b[0m                         Traceback (most recent call last)",
            "\u001b[0;32m<ipython-input-2-8f0950eb8a12>\u001b[0m in \u001b[0;36m<cell line: 0>\u001b[0;34m()\u001b[0m\n\u001b[0;32m----> 1\u001b[0;31m \u001b[0mopen\u001b[0m\u001b[0;34m(\u001b[0m\u001b[0;34m\"File_Handling1\"\u001b[0m\u001b[0;34m,\u001b[0m\u001b[0;34m\"r\"\u001b[0m\u001b[0;34m)\u001b[0m\u001b[0;34m\u001b[0m\u001b[0;34m\u001b[0m\u001b[0m\n\u001b[0m",
            "\u001b[0;31mFileNotFoundError\u001b[0m: [Errno 2] No such file or directory: 'File_Handling1'"
          ]
        }
      ]
    },
    {
      "cell_type": "code",
      "source": [
        "open(\"File_Handling1\",\"a\")"
      ],
      "metadata": {
        "id": "ionRhuQVcu6M"
      },
      "execution_count": null,
      "outputs": []
    },
    {
      "cell_type": "code",
      "execution_count": null,
      "metadata": {
        "id": "e_EQE54mXGY-"
      },
      "outputs": [],
      "source": [
        "f=open(\"/content/File_Handling1\",\"w\")\n",
        "f.write(\"nuhman\\nswalih\\naswin\")\n",
        "f=open(\"/content/File_Handling1\",\"r\")\n",
        "print(f.read())\n"
      ]
    },
    {
      "cell_type": "code",
      "source": [
        "f=open(\"/content/File_Handling1\",\"w\")\n",
        "f.write(\"nuhman\\nswalih\\naswin\")\n",
        "f=open(\"/content/File_Handling1\",\"r\")\n",
        "print(f.read(3))\n"
      ],
      "metadata": {
        "id": "uVw9HIkifa6a",
        "outputId": "acb8ee06-9407-4f79-f50a-7d043056041d",
        "colab": {
          "base_uri": "https://localhost:8080/"
        }
      },
      "execution_count": 3,
      "outputs": [
        {
          "output_type": "stream",
          "name": "stdout",
          "text": [
            "nuh\n"
          ]
        }
      ]
    },
    {
      "cell_type": "code",
      "source": [
        "f=open(\"/content/File_Handling1\",\"w\")\n",
        "f.write(\"nuhman\\nswalih\\naswin\")\n",
        "f=open(\"/content/File_Handling1\",\"r\")\n",
        "print(f.readline())"
      ],
      "metadata": {
        "id": "usv9k4qNfx-I",
        "outputId": "3d0a45fb-aa7b-415f-f60a-705d5112918c",
        "colab": {
          "base_uri": "https://localhost:8080/"
        }
      },
      "execution_count": 4,
      "outputs": [
        {
          "output_type": "stream",
          "name": "stdout",
          "text": [
            "nuhman\n",
            "\n"
          ]
        }
      ]
    },
    {
      "cell_type": "code",
      "source": [
        "f=open(\"/content/File_Handling1\",\"w\")\n",
        "f.write(\"nuhman\\nswalih\\naswin\")\n",
        "f=open(\"/content/File_Handling1\",\"a\")\n",
        "f.write(\"\\ninsaf\")\n",
        "f=open(\"/content/File_Handling1\",\"r\")\n",
        "print(f.read())\n",
        "\n"
      ],
      "metadata": {
        "id": "9cCA_5sXfXr8",
        "outputId": "403d73f7-1f4b-4401-860d-3904d2b853c8",
        "colab": {
          "base_uri": "https://localhost:8080/"
        }
      },
      "execution_count": 5,
      "outputs": [
        {
          "output_type": "stream",
          "name": "stdout",
          "text": [
            "nuhman\n",
            "swalih\n",
            "aswin\n",
            "insaf\n"
          ]
        }
      ]
    },
    {
      "cell_type": "code",
      "source": [
        "f=open(\"/content/File_Handling1\",\"w\")\n",
        "f.write(\"nuhman\\tswalih\\taswin\")\n",
        "f=open(\"/content/File_Handling1\",\"r\")\n",
        "print(f.read(2))\n"
      ],
      "metadata": {
        "id": "H71u-BiKb1sb",
        "outputId": "ca6b3ad9-ed7e-4244-8797-6ed3125a8bad",
        "colab": {
          "base_uri": "https://localhost:8080/"
        }
      },
      "execution_count": 6,
      "outputs": [
        {
          "output_type": "stream",
          "name": "stdout",
          "text": [
            "nu\n"
          ]
        }
      ]
    },
    {
      "cell_type": "code",
      "source": [
        "f=open(\"/content/File_Handling1\",\"w\")\n",
        "f.write(\"nuhman\\bswalih\\baswin\")\n",
        "f=open(\"/content/File_Handling1\",\"r\")\n",
        "print(f.read())\n"
      ],
      "metadata": {
        "id": "t-e6QQqxednF",
        "outputId": "a3ffe1f2-2f09-4537-f108-1672d2fc1912",
        "colab": {
          "base_uri": "https://localhost:8080/"
        }
      },
      "execution_count": 7,
      "outputs": [
        {
          "output_type": "stream",
          "name": "stdout",
          "text": [
            "nuhman\bswalih\baswin\n"
          ]
        }
      ]
    },
    {
      "cell_type": "code",
      "source": [
        "file=open(\"file1\",\"r\")\n",
        "import os\n",
        "os.remove(\"file1\")"
      ],
      "metadata": {
        "id": "Q5AOLof_ncN5",
        "outputId": "765c70c5-7d2e-4945-9978-99bad2d905e8",
        "colab": {
          "base_uri": "https://localhost:8080/",
          "height": 176
        }
      },
      "execution_count": 8,
      "outputs": [
        {
          "output_type": "error",
          "ename": "FileNotFoundError",
          "evalue": "[Errno 2] No such file or directory: 'file1'",
          "traceback": [
            "\u001b[0;31m---------------------------------------------------------------------------\u001b[0m",
            "\u001b[0;31mFileNotFoundError\u001b[0m                         Traceback (most recent call last)",
            "\u001b[0;32m<ipython-input-8-20453b04999e>\u001b[0m in \u001b[0;36m<cell line: 0>\u001b[0;34m()\u001b[0m\n\u001b[0;32m----> 1\u001b[0;31m \u001b[0mfile\u001b[0m\u001b[0;34m=\u001b[0m\u001b[0mopen\u001b[0m\u001b[0;34m(\u001b[0m\u001b[0;34m\"file1\"\u001b[0m\u001b[0;34m,\u001b[0m\u001b[0;34m\"r\"\u001b[0m\u001b[0;34m)\u001b[0m\u001b[0;34m\u001b[0m\u001b[0;34m\u001b[0m\u001b[0m\n\u001b[0m\u001b[1;32m      2\u001b[0m \u001b[0;32mimport\u001b[0m \u001b[0mos\u001b[0m\u001b[0;34m\u001b[0m\u001b[0;34m\u001b[0m\u001b[0m\n\u001b[1;32m      3\u001b[0m \u001b[0mos\u001b[0m\u001b[0;34m.\u001b[0m\u001b[0mremove\u001b[0m\u001b[0;34m(\u001b[0m\u001b[0;34m\"file1\"\u001b[0m\u001b[0;34m)\u001b[0m\u001b[0;34m\u001b[0m\u001b[0;34m\u001b[0m\u001b[0m\n",
            "\u001b[0;31mFileNotFoundError\u001b[0m: [Errno 2] No such file or directory: 'file1'"
          ]
        }
      ]
    },
    {
      "cell_type": "code",
      "source": [
        "f=open(\"/content/File_Handling\",\"w\")\n",
        "f.write(\"nuhman\\nswalih\\naswin\")\n",
        "f=open(\"/content/File_Handling\",\"r\")\n",
        "print(f.read())"
      ],
      "metadata": {
        "id": "pOE6ujAxs-xy"
      },
      "execution_count": null,
      "outputs": []
    },
    {
      "cell_type": "code",
      "source": [
        "import os\n",
        "os.remove(\"/content/File_Handling\")"
      ],
      "metadata": {
        "id": "lsW6BO-zOS5n"
      },
      "execution_count": null,
      "outputs": []
    },
    {
      "cell_type": "code",
      "source": [
        "import os\n",
        "os.remove(\"/content/hy\")"
      ],
      "metadata": {
        "id": "EuGfYuUmtef-"
      },
      "execution_count": null,
      "outputs": []
    }
  ]
}