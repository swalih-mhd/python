{
  "nbformat": 4,
  "nbformat_minor": 0,
  "metadata": {
    "colab": {
      "provenance": []
    },
    "kernelspec": {
      "name": "python3",
      "display_name": "Python 3"
    },
    "language_info": {
      "name": "python"
    }
  },
  "cells": [
    {
      "cell_type": "code",
      "execution_count": null,
      "metadata": {
        "colab": {
          "base_uri": "https://localhost:8080/"
        },
        "id": "KFpDoVvmUPl2",
        "outputId": "40ee6d34-10f8-4eb5-df97-8a8718d9091a"
      },
      "outputs": [
        {
          "output_type": "stream",
          "name": "stdout",
          "text": [
            "<class 'int'>\n"
          ]
        }
      ],
      "source": [
        "a=1\n",
        "print(type(a))"
      ]
    },
    {
      "cell_type": "code",
      "source": [
        "class Faculty:\n",
        "  pass\n",
        "\n",
        "faculty=Faculty()\n",
        "print(type(faculty))"
      ],
      "metadata": {
        "colab": {
          "base_uri": "https://localhost:8080/"
        },
        "id": "yMQFrvH5Uh8T",
        "outputId": "29ab0b02-9984-41e4-aef1-e6f2a0429e33"
      },
      "execution_count": null,
      "outputs": [
        {
          "output_type": "stream",
          "name": "stdout",
          "text": [
            "<class '__main__.Faculty'>\n"
          ]
        }
      ]
    },
    {
      "cell_type": "code",
      "source": [
        "class Faculty:\n",
        "  pass\n",
        "\n",
        "faculty1=Faculty()\n",
        "faculty1.name=\"nuhman\"\n",
        "print(faculty1.name)\n",
        "faculty2=Faculty()\n",
        "faculty2.name=\"insaf\"\n",
        "print(faculty2.name)\n",
        "print(type(faculty1))"
      ],
      "metadata": {
        "colab": {
          "base_uri": "https://localhost:8080/"
        },
        "id": "ohMgBey2UyGC",
        "outputId": "0ebf7dd5-911e-4ea3-c5c9-cc9903d5e151"
      },
      "execution_count": null,
      "outputs": [
        {
          "output_type": "stream",
          "name": "stdout",
          "text": [
            "nuhman\n",
            "insaf\n",
            "<class '__main__.Faculty'>\n"
          ]
        }
      ]
    },
    {
      "cell_type": "code",
      "source": [
        "class Faculty:\n",
        "  inst_id=101\n",
        "  def __init__(self,name,age,place=\"manjeri\"):\n",
        "    self.name=name\n",
        "    self.age=age\n",
        "    self.place=place\n",
        "\n",
        "faculty1=Faculty(\"nuhman\",19)\n",
        "faculty2=Faculty(\"insaf\",21,\"malappuram\")\n",
        "print(faculty1.name)\n",
        "print(faculty2.name)\n",
        "print(faculty2.inst_id)\n",
        "print(faculty1.place)\n",
        "print(faculty2.place)"
      ],
      "metadata": {
        "colab": {
          "base_uri": "https://localhost:8080/"
        },
        "id": "9zzvoK3iVfJr",
        "outputId": "621c1471-23a8-439d-b73e-e19b7ff5eaf2"
      },
      "execution_count": null,
      "outputs": [
        {
          "output_type": "stream",
          "name": "stdout",
          "text": [
            "nuhman\n",
            "insaf\n",
            "101\n",
            "manjeri\n",
            "malappuram\n"
          ]
        }
      ]
    },
    {
      "cell_type": "code",
      "source": [
        "class Car:\n",
        "  compony=\"BMW\"\n",
        "  model=\"m5\"\n",
        "  price=2500000000\n",
        "  color=\"black\"\n",
        "\n",
        "  def displayDetailes(self):\n",
        "    print(\"printing all details\")"
      ],
      "metadata": {
        "id": "0nfPdbvbYQgc"
      },
      "execution_count": null,
      "outputs": []
    },
    {
      "cell_type": "code",
      "source": [
        "class Car:\n",
        "  compony=\"BMW\"\n",
        "  model=\"m5\"\n",
        "  price=2500000000\n",
        "  color=\"black\"\n",
        "\n",
        "  def displayDetailes(self):\n",
        "    print(\"printing all details\")\n",
        "\n",
        "\n",
        "  a=Car()\n",
        "  b=Car()\n",
        "  c=Car()\n",
        "  print(a)\n",
        "  print(type(a))"
      ],
      "metadata": {
        "id": "G0DtGs-AFaLN",
        "colab": {
          "base_uri": "https://localhost:8080/"
        },
        "outputId": "04aa7fbc-c68e-4af9-dc29-58a594c7ad70"
      },
      "execution_count": null,
      "outputs": [
        {
          "output_type": "stream",
          "name": "stdout",
          "text": [
            "<__main__.Car object at 0x7b091775fd60>\n",
            "<class '__main__.Car'>\n"
          ]
        }
      ]
    },
    {
      "cell_type": "code",
      "source": [
        "class Car:\n",
        "  compony=\"BMW\"\n",
        "  model=\"m5\"\n",
        "  price=2500000000\n",
        "  color=\"black\"\n",
        "\n",
        "  def displayDetailes(self):\n",
        "    print(\"printing all details\")\n",
        "\n",
        "\n",
        "  a=Car()\n",
        "  print(Car.color,Car.compony,Car.model,Car.price)"
      ],
      "metadata": {
        "id": "QwJFE-mFFfZ0",
        "colab": {
          "base_uri": "https://localhost:8080/"
        },
        "outputId": "6c17200b-97c7-49f0-cf1f-08e285c738dd"
      },
      "execution_count": null,
      "outputs": [
        {
          "output_type": "stream",
          "name": "stdout",
          "text": [
            "black BMW m5 2500000000\n"
          ]
        }
      ]
    },
    {
      "cell_type": "code",
      "source": [
        "class Car:\n",
        "  compony=\"BMW\"\n",
        "  model=\"m5\"\n",
        "  price=2500000000\n",
        "  color=\"black\"\n",
        "\n",
        "  def displayDetailes(self):\n",
        "    print(\"printing all details\")\n",
        "\n",
        "\n",
        "  a=Car()\n",
        "  print(a.color,a.compony,a.model,a.price)"
      ],
      "metadata": {
        "id": "Ycg2o9L1FfLE",
        "colab": {
          "base_uri": "https://localhost:8080/"
        },
        "outputId": "31719e98-08df-4aa8-db53-c21ae83559f3"
      },
      "execution_count": null,
      "outputs": [
        {
          "output_type": "stream",
          "name": "stdout",
          "text": [
            "black BMW m5 2500000000\n"
          ]
        }
      ]
    },
    {
      "cell_type": "code",
      "source": [
        "class Car:\n",
        "  compony=\"BMW\"\n",
        "  model=\"m5\"\n",
        "  price=2500000000\n",
        "  color=\"black\"\n",
        "\n",
        "  def displayDetailes(self):\n",
        "    print(\"printing all details\")\n",
        "\n",
        "\n",
        "  a=Car()\n",
        "  a.displayDetailes()"
      ],
      "metadata": {
        "id": "fScmoWcbFm-1",
        "colab": {
          "base_uri": "https://localhost:8080/"
        },
        "outputId": "e8e16484-b2be-45c8-96b5-350f64d31a48"
      },
      "execution_count": null,
      "outputs": [
        {
          "output_type": "stream",
          "name": "stdout",
          "text": [
            "printing all details\n"
          ]
        }
      ]
    },
    {
      "cell_type": "markdown",
      "source": [
        "## **constructor**"
      ],
      "metadata": {
        "id": "pT7urtO959Lq"
      }
    },
    {
      "cell_type": "code",
      "source": [
        "class Employee:\n",
        "  company_name=\"ABCD TECHNOLOGY\"\n",
        "  location=\"kochi\"\n",
        "\n",
        "  def __init__(self,id,name,salary):\n",
        "    self.emp_id=id\n",
        "    self.emp_name=name\n",
        "    self.emp_salary=salary\n",
        "  def get_details(self):\n",
        "    print(self.emp_id,self.emp_name,self.emp_salary)\n",
        "\n",
        "obj1=Employee(100,\"X\",500000)\n",
        "obj2=Employee(101,\"Y\",600000)\n",
        "\n",
        "obj1.get_details()\n",
        "obj2.get_details()"
      ],
      "metadata": {
        "id": "moMhFdvTMj9E",
        "colab": {
          "base_uri": "https://localhost:8080/"
        },
        "outputId": "c6b3ce27-1d57-49f8-a13c-f254e3cf9104"
      },
      "execution_count": null,
      "outputs": [
        {
          "output_type": "stream",
          "name": "stdout",
          "text": [
            "100 X 500000\n",
            "101 Y 600000\n"
          ]
        }
      ]
    },
    {
      "cell_type": "code",
      "source": [
        "# create a class car with attributes brand, model and year\n",
        "# instantiate an object with brand=\"toyota\",model=\"corolla\",year=2020\n",
        "# print the attributes of the object"
      ],
      "metadata": {
        "id": "Fs17GOmOPlZh"
      },
      "execution_count": null,
      "outputs": []
    },
    {
      "cell_type": "code",
      "source": [
        "class Car:\n",
        "  pass\n",
        "  def __init__(self,brand,model,year):\n",
        "    self.brand_name=brand\n",
        "    self.model_name=model\n",
        "    self.year_=year\n",
        "\n",
        "car1=Car(\"Toyota\",\"Corolla\",2020)\n",
        "print(f\"Brand : {car1.brand_name}, Model : {car1.model_name}, year : {car1.year_}\")"
      ],
      "metadata": {
        "colab": {
          "base_uri": "https://localhost:8080/"
        },
        "id": "FViVNAIHTyX4",
        "outputId": "4f694175-2ab6-4c28-ad8f-5a123593ee48"
      },
      "execution_count": null,
      "outputs": [
        {
          "output_type": "stream",
          "name": "stdout",
          "text": [
            "Brand : Toyota, Model : Corolla, year : 2020\n"
          ]
        }
      ]
    },
    {
      "cell_type": "code",
      "source": [
        "class Car:\n",
        "  pass\n",
        "  def __init__(self,brand,model,year):\n",
        "    self.brand_name=brand\n",
        "    self.model_name=model\n",
        "    self.year_=year\n",
        "  def get_details(self):\n",
        "    print(self.brand_name,self.model_name,self.year_)\n",
        "\n",
        "object1=Car(\"Toyota\",\"Corolla\",2020)\n",
        "object1.get_details()"
      ],
      "metadata": {
        "colab": {
          "base_uri": "https://localhost:8080/"
        },
        "id": "9V8O9BRRRdGI",
        "outputId": "53b9d343-c6e7-4565-e527-5686462dbe92"
      },
      "execution_count": null,
      "outputs": [
        {
          "output_type": "stream",
          "name": "stdout",
          "text": [
            "Toyota Corolla 2020\n"
          ]
        }
      ]
    },
    {
      "cell_type": "code",
      "source": [
        "# add a class attribute wheels = 4 to the car class.\n",
        "# access it using both the class name and n object"
      ],
      "metadata": {
        "id": "JTsP_xSYVJfI"
      },
      "execution_count": null,
      "outputs": []
    },
    {
      "cell_type": "code",
      "source": [
        "class Car:\n",
        "  wheels=4\n",
        "  def __init__(self,brand,model,year):\n",
        "    self.brand_name=brand\n",
        "    self.model_name=model\n",
        "    self.year_=year\n",
        "\n",
        "car1=Car(\"Toyota\",\"Corolla\",2020)\n",
        "print(f\"Brand : {car1.brand_name}, Model : {car1.model_name}, year : {car1.year_}, wheels : {Car.wheels}\")"
      ],
      "metadata": {
        "colab": {
          "base_uri": "https://localhost:8080/"
        },
        "id": "3iyFI87MTuL5",
        "outputId": "65970c51-9924-49fa-c8ce-7c2bbe70d058"
      },
      "execution_count": null,
      "outputs": [
        {
          "output_type": "stream",
          "name": "stdout",
          "text": [
            "Brand : Toyota, Model : Corolla, year : 2020, wheels : 4\n"
          ]
        }
      ]
    },
    {
      "cell_type": "code",
      "source": [
        "# write a class  retangle with attributes  length and breadth\n",
        "# add a method area to calculate the area of  thje retangle and return it."
      ],
      "metadata": {
        "id": "ZbMxH9t9ZI4Y"
      },
      "execution_count": null,
      "outputs": []
    },
    {
      "cell_type": "code",
      "source": [
        "class Rectangle:\n",
        "  def __init__(self,len,brd):\n",
        "    self.length=len\n",
        "    self.breadth=brd\n",
        "  def area(self):\n",
        "    print(f\"area of rectangle : {self.length * self.breadth}\")\n",
        "\n",
        "obj1=Rectangle(5,4)\n",
        "obj1.area()"
      ],
      "metadata": {
        "colab": {
          "base_uri": "https://localhost:8080/"
        },
        "id": "7Z6Tpvl1WLdZ",
        "outputId": "f9fdcfed-6062-439b-8d69-11a55c2e93b1"
      },
      "execution_count": null,
      "outputs": [
        {
          "output_type": "stream",
          "name": "stdout",
          "text": [
            "area of rectangle : 20\n"
          ]
        }
      ]
    },
    {
      "cell_type": "code",
      "source": [
        "#create a class of students.\n",
        "# add attributes name ,age ,id.\n",
        "#create a method to display the attributes .\n",
        "#create any 5 objects\n",
        "#display the details object 2.\n",
        "#access the 1st object  name.\n",
        "# display details of object 3"
      ],
      "metadata": {
        "id": "U8j5ybJWexpp"
      },
      "execution_count": null,
      "outputs": []
    },
    {
      "cell_type": "code",
      "source": [
        "class Students:\n",
        "  def __init__(self,name,age,id):\n",
        "    self.std_name=name\n",
        "    self.std_age=age\n",
        "    self.std_id=id\n",
        "  def details(self):\n",
        "    print(f\"name : {self.std_name}, age : {self.std_age}, id : {self.std_id}\")\n",
        "\n",
        "std1=Students(\"nuhman\",19,101)\n",
        "std2=Students(\"swalih\",18,102)\n",
        "std3=Students(\"shifan\",17,103)\n",
        "std4=Students(\"insaf\",20,104)\n",
        "std5=Students(\"shamil\",18,105)\n",
        "\n",
        "\n",
        "std2.details()\n",
        "print(std1.std_name)\n",
        "std3.details()"
      ],
      "metadata": {
        "colab": {
          "base_uri": "https://localhost:8080/"
        },
        "id": "fPvVC1pGYEzx",
        "outputId": "5dae4e89-a63a-4aec-9b4c-97f14501ddbf"
      },
      "execution_count": null,
      "outputs": [
        {
          "output_type": "stream",
          "name": "stdout",
          "text": [
            "name : swalih, age : 18, id : 102\n",
            "nuhman\n",
            "name : shifan, age : 17, id : 103\n"
          ]
        }
      ]
    },
    {
      "cell_type": "code",
      "source": [
        "class Person:\n",
        "  def __init__(self,name,age,city):\n",
        "    self.p_name=name\n",
        "    self.p_age=age\n",
        "    self.p_city=city\n",
        "  def introduce(self):\n",
        "    print(f\"hello my name is {self.p_name}. i am {self.p_age} years old , and i live in {self.p_city}\")\n",
        "\n",
        "  def is_adult(self):\n",
        "    return self.p_age >= 18\n",
        "\n",
        "p1=Person(\"nuhman\",19,\"malappuram\")\n",
        "p2=Person(\"shifan\",17,\"palakkad\")\n",
        "\n",
        "\n",
        "# person 1\n",
        "p1.introduce()\n",
        "print(p1.is_adult())\n",
        "\n",
        "#  person 2\n",
        "p2.introduce()\n",
        "print(p2.is_adult())"
      ],
      "metadata": {
        "colab": {
          "base_uri": "https://localhost:8080/"
        },
        "id": "Dl6zTm5Fbydg",
        "outputId": "6b7f4a67-5b75-46d0-9e45-9d707602b029"
      },
      "execution_count": null,
      "outputs": [
        {
          "output_type": "stream",
          "name": "stdout",
          "text": [
            "hello my name is nuhman. i am 19 years old , and i live in malappuram\n",
            "True\n",
            "hello my name is shifan. i am 17 years old , and i live in palakkad\n",
            "False\n"
          ]
        }
      ]
    },
    {
      "cell_type": "markdown",
      "source": [
        "Create a class called Library that represents a library. Each book in the library will be represented by an\n",
        "object. The class should have the following features:\n",
        "1. Class Variable\n",
        "o total_books: A class variable that keeps track of the total number of books in the library.\n",
        "It should be updated whenever a new book is added or removed.\n",
        "\n",
        "2. Attributes (Instance Variables)\n",
        "o book_name (string): The name of the book.\n",
        "o author (string): The author of the book.\n",
        "o year (integer): The year the book was published.\n",
        "o availability (boolean): Whether the book is available in the library (True if available, False\n",
        "if checked out).\n",
        "\n",
        "3. Methods\n",
        "o __init__: Constructor to initialize the attributes, and it should also increase total_books\n",
        "by 1 whenever a new book is created.\n",
        "o check_availability: A method that returns whether the book is available or checked out.\n",
        "o borrow_book: A method that changes the availability to False when a book is borrowed\n",
        "and decreases total_books if the book is borrowed (considered removed from the library\n",
        "temporarily).\n",
        "o return_book: A method that changes the availability to True when a book is returned\n",
        "and increases total_books if the book is returned (considered added back to the library).\n",
        "o display_info: A method that prints the details of the book (book name, author, year, and\n",
        "availability).\n",
        "o display_total_books: A class method that prints the total number of books in the library.\n",
        "4. Create multiple objects (books) for the Library class, and demonstrate borrowing, returning\n",
        "books, and updating the total book count by calling appropriate methods.\n",
        "\n",
        "Example of What It Should Include\n",
        "1. When a new book is added, total_books should increase by 1.\n",
        "2. When a book is borrowed, total_books should decrease by 1.\n",
        "3. When a book is returned, total_books should increase by 1."
      ],
      "metadata": {
        "id": "pEwgEXf7ql8Z"
      }
    },
    {
      "cell_type": "code",
      "source": [
        "class Library:\n",
        "  total_books=5\n",
        "  def __init__(self,book_name,author,year,availability):\n"
      ],
      "metadata": {
        "id": "PYk4pUT5gh2I"
      },
      "execution_count": null,
      "outputs": []
    },
    {
      "cell_type": "markdown",
      "source": [
        "## **inheritance**"
      ],
      "metadata": {
        "id": "hkHAjpL80RSB"
      }
    },
    {
      "cell_type": "code",
      "source": [
        "class Human:\n",
        "  def eat(self):\n",
        "    print(\"i can eat\")\n",
        "  def walk(self):\n",
        "    print(\"i can walk\")\n",
        "class Male(Human):\n",
        "  def talk(self):\n",
        "    print(\"i can talk\")\n",
        "\n",
        "male1=Male()\n",
        "male1.eat()\n",
        "male1.talk()"
      ],
      "metadata": {
        "colab": {
          "base_uri": "https://localhost:8080/"
        },
        "id": "RgKFNu2Vrp5J",
        "outputId": "14fa32ae-2ad1-4346-fbe5-39e5af38817d"
      },
      "execution_count": null,
      "outputs": [
        {
          "output_type": "stream",
          "name": "stdout",
          "text": [
            "i can eat\n",
            "i can talk\n"
          ]
        }
      ]
    },
    {
      "cell_type": "code",
      "source": [
        "class Employee:\n",
        "  def __init__(self,name,age):\n",
        "    self.name=name\n",
        "    self.age=age\n",
        "\n",
        "class Devloper(Employee):\n",
        "  pass\n",
        "\n",
        "Dev_1=Devloper(\"nabeel\",22)\n",
        "print(Dev_1.name)\n",
        "print(Dev_1.age)"
      ],
      "metadata": {
        "colab": {
          "base_uri": "https://localhost:8080/"
        },
        "id": "yD45hjspNM8y",
        "outputId": "7bbb33e9-be5d-43fe-9353-0df0321f76ec"
      },
      "execution_count": null,
      "outputs": [
        {
          "output_type": "stream",
          "name": "stdout",
          "text": [
            "nabeel\n",
            "22\n"
          ]
        }
      ]
    },
    {
      "cell_type": "markdown",
      "source": [
        "## **method overriding in python**"
      ],
      "metadata": {
        "id": "ksWqXoI17hdI"
      }
    },
    {
      "cell_type": "code",
      "source": [
        "class Human:\n",
        "  def eat(self):\n",
        "    print(\"i can eat\")\n",
        "  def walk(self):\n",
        "    print(\"i can walk\")\n",
        "class Male(Human):\n",
        "  def talk(self):\n",
        "    print(\" i can talk\")\n",
        "  def walk(self):\n",
        "    print(\"i cant walk\")\n",
        "    #super().walk()\n",
        "\n",
        "male1=Male()\n",
        "male1.eat()\n",
        "male1.walk()\n"
      ],
      "metadata": {
        "colab": {
          "base_uri": "https://localhost:8080/"
        },
        "id": "xrAWUFpr1dbI",
        "outputId": "4443d996-e046-49e8-918f-2fbf85286698"
      },
      "execution_count": null,
      "outputs": [
        {
          "output_type": "stream",
          "name": "stdout",
          "text": [
            "i can eat\n",
            "i cant walk\n"
          ]
        }
      ]
    },
    {
      "cell_type": "code",
      "source": [
        "class Human:\n",
        "  def eat(self):\n",
        "    print(\"i can eat\")\n",
        "  def walk(self):\n",
        "    print(\"i can walk\")\n",
        "class Male(Human):\n",
        "  def talk(self):\n",
        "    print(\" i can talk\")\n",
        "  def walk(self):\n",
        "    print(\"i cant walk\")\n",
        "    super().walk()\n",
        "\n",
        "male1=Male()\n",
        "male1.eat()\n",
        "male1.walk()"
      ],
      "metadata": {
        "colab": {
          "base_uri": "https://localhost:8080/"
        },
        "id": "n9EHcXdI7PqQ",
        "outputId": "e96e2936-d454-4c3d-ae13-fef427b162d5"
      },
      "execution_count": null,
      "outputs": [
        {
          "output_type": "stream",
          "name": "stdout",
          "text": [
            "i can eat\n",
            "i cant walk\n",
            "i can walk\n"
          ]
        }
      ]
    },
    {
      "cell_type": "markdown",
      "source": [
        "## **constructor overriding in python**"
      ],
      "metadata": {
        "id": "vjCC2XH1XFCh"
      }
    },
    {
      "cell_type": "code",
      "source": [
        "class Employee:\n",
        "  def __init__(self,name,age):\n",
        "    self.name=name\n",
        "    self.age=age\n",
        "\n",
        "class Devloper(Employee):\n",
        "  def __init__(self,name,age,language):\n",
        "    self.language=language\n",
        "    super().__init__(name,age)\n",
        "\n",
        "Dev_1=Devloper(\"nabeel\",20,\"python\")\n",
        "\n",
        "print(Dev_1.language)\n",
        "print(Dev_1.name)"
      ],
      "metadata": {
        "colab": {
          "base_uri": "https://localhost:8080/"
        },
        "id": "fc6KmrgO7gLg",
        "outputId": "b6525135-8791-4c50-f456-de50f5e4caac"
      },
      "execution_count": null,
      "outputs": [
        {
          "output_type": "stream",
          "name": "stdout",
          "text": [
            "python\n",
            "nabeel\n"
          ]
        }
      ]
    },
    {
      "cell_type": "code",
      "source": [
        "class Product:\n",
        "  def __init__(self,name,price):\n",
        "    self.name=name\n",
        "    self.price=price\n",
        "  def display_details(self):\n",
        "    print(f\"prod_name : {self.name}, prod_price : {self.price}\")\n",
        "\n",
        "class Electronics(Product):\n",
        "  def __init__(self,name,price,warranty):\n",
        "    self.warranty=warranty\n",
        "    super().__init__(name,price)\n",
        "  def display_details(self):\n",
        "    super().display_details()\n",
        "    print(f\"warranty : {self.warranty} years\")\n",
        "\n",
        "\n",
        "p1=Product(\"arduino\",1000)\n",
        "p1.display_details()\n",
        "\n",
        "p2=Electronics(\"laptop\",75000,2)\n",
        "p2.display_details()"
      ],
      "metadata": {
        "colab": {
          "base_uri": "https://localhost:8080/"
        },
        "id": "HUddA9lyPMuo",
        "outputId": "607d37c6-67b2-469f-c79b-d1b494e7bc46"
      },
      "execution_count": null,
      "outputs": [
        {
          "output_type": "stream",
          "name": "stdout",
          "text": [
            "prod_name : arduino, prod_price : 1000\n",
            "prod_name : laptop, prod_price : 75000\n",
            "warranty : 2 years\n"
          ]
        }
      ]
    },
    {
      "cell_type": "markdown",
      "source": [
        "## **Multiple Inheritance**"
      ],
      "metadata": {
        "id": "bs018_D5vOFz"
      }
    },
    {
      "cell_type": "code",
      "source": [
        "class Human:\n",
        "\n",
        "  def eat(self):\n",
        "    print(\"i can eat\")\n",
        "\n",
        "  def work(self):\n",
        "    print(\"i can work\")\n",
        "\n",
        "class  Male:\n",
        "\n",
        "  def flirt(self):\n",
        "    print(\"i can flirt\")\n",
        "\n",
        "  def work(self):\n",
        "    print(\"i can code\")\n",
        "\n",
        "class Boy(Human,Male):\n",
        "  pass\n",
        "\n",
        "boy1=Boy()\n",
        "boy1.eat()\n",
        "boy1.flirt()\n",
        "boy1.work()"
      ],
      "metadata": {
        "colab": {
          "base_uri": "https://localhost:8080/"
        },
        "id": "TI58-JX9TCl7",
        "outputId": "4fee0411-82f0-4011-ed5e-27945e04dec8"
      },
      "execution_count": null,
      "outputs": [
        {
          "output_type": "stream",
          "name": "stdout",
          "text": [
            "i can eat\n",
            "i can flirt\n",
            "i can work\n"
          ]
        }
      ]
    },
    {
      "cell_type": "code",
      "source": [
        "class Human:\n",
        "\n",
        "  def eat(self):\n",
        "    print(\"i can eat\")\n",
        "\n",
        "  def work(self):\n",
        "    print(\"i can work\")\n",
        "\n",
        "class  Male:\n",
        "\n",
        "  def flirt(self):\n",
        "    print(\"i can flirt\")\n",
        "\n",
        "  def work(self):\n",
        "    print(\"i can code\")\n",
        "\n",
        "class Boy(Human,Male):\n",
        "  def work(self):\n",
        "    Male.work(self)  # explicitly calling the 'work' method from 'Male'\n",
        "\n",
        "boy1=Boy()\n",
        "boy1.eat()\n",
        "boy1.flirt()\n",
        "boy1.work()"
      ],
      "metadata": {
        "colab": {
          "base_uri": "https://localhost:8080/"
        },
        "id": "x0sN13TqwIGS",
        "outputId": "fd0ac249-0941-4c37-a131-0b953bd6d8f8"
      },
      "execution_count": null,
      "outputs": [
        {
          "output_type": "stream",
          "name": "stdout",
          "text": [
            "i can eat\n",
            "i can flirt\n",
            "i can code\n"
          ]
        }
      ]
    },
    {
      "cell_type": "markdown",
      "source": [
        "# **Polymorphism**\n",
        "\n",
        "### Two types :\n",
        "1. method overriding\n",
        "2. method overloading"
      ],
      "metadata": {
        "id": "weUu_ow43QX0"
      }
    },
    {
      "cell_type": "markdown",
      "source": [
        "#`method overriding`"
      ],
      "metadata": {
        "id": "NQHUkbTc-2pF"
      }
    },
    {
      "cell_type": "code",
      "source": [
        "class A:\n",
        "  def show(self):\n",
        "   print(\"class A\")\n",
        "\n",
        "class B(A):\n",
        "  def show(self):\n",
        "    print(\"class B\")\n",
        "\n",
        "class C(B):\n",
        "  def show(self):\n",
        "    print(\"class C\")\n",
        "\n",
        "# creating an object of C\n",
        "obj=C()\n",
        "obj.show()"
      ],
      "metadata": {
        "id": "tOQMbfwCu2XB",
        "colab": {
          "base_uri": "https://localhost:8080/"
        },
        "outputId": "b574f04a-20fc-4d83-be04-927e8a80f7be"
      },
      "execution_count": null,
      "outputs": [
        {
          "output_type": "stream",
          "name": "stdout",
          "text": [
            "class C\n"
          ]
        }
      ]
    },
    {
      "cell_type": "code",
      "source": [
        "class A:\n",
        "  def show(self):\n",
        "    print(\"class A\")\n",
        "\n",
        "class B(A):\n",
        "  def show(self):\n",
        "    print(\"class B\")\n",
        "    super().show()\n",
        "\n",
        "class C(B):\n",
        "  def show(self):\n",
        "    print(\"class C\")\n",
        "    super().show()\n",
        "\n",
        "# creating an object of C\n",
        "obj=C()\n",
        "obj.show()"
      ],
      "metadata": {
        "id": "MKxeM6c5u4KB",
        "colab": {
          "base_uri": "https://localhost:8080/"
        },
        "outputId": "51954458-5a35-46fd-d9fb-cc4003582c02"
      },
      "execution_count": null,
      "outputs": [
        {
          "output_type": "stream",
          "name": "stdout",
          "text": [
            "class C\n",
            "class B\n",
            "class A\n"
          ]
        }
      ]
    },
    {
      "cell_type": "code",
      "source": [
        "class Animal:\n",
        "  def speak(self):\n",
        "    print(\"Animal is making a sound \")\n",
        "\n",
        "class Dog(Animal):\n",
        "  def speak(self):\n",
        "    print(\"Dog barks\")\n",
        "    super().speak()\n",
        "\n",
        "class Cat(Animal):\n",
        "  def speak(self):\n",
        "    print(\"Cat meows\")\n",
        "\n",
        "dog=Dog()\n",
        "dog.speak()"
      ],
      "metadata": {
        "colab": {
          "base_uri": "https://localhost:8080/"
        },
        "id": "9joKFSWG4yON",
        "outputId": "b27b8715-fa8e-4afc-c488-73a70d1b2277"
      },
      "execution_count": null,
      "outputs": [
        {
          "output_type": "stream",
          "name": "stdout",
          "text": [
            "Dog barks\n",
            "Animal is making a sound \n"
          ]
        }
      ]
    },
    {
      "cell_type": "markdown",
      "source": [
        "#`Method overloading`\n",
        "\n",
        "1. Using Default Arguments"
      ],
      "metadata": {
        "id": "Wh5YrEMw-S_u"
      }
    },
    {
      "cell_type": "code",
      "source": [
        "class Calculator:\n",
        "  def add(self,a,b=0,c=0):\n",
        "    return a + b + c\n",
        "\n",
        "calc=Calculator()\n",
        "\n",
        "# call the method with different numbers of arguments\n",
        "print(calc.add(5))\n",
        "print(calc.add(5,10))\n",
        "print(calc.add(5,10,20))"
      ],
      "metadata": {
        "id": "MLs478k05nl1",
        "colab": {
          "base_uri": "https://localhost:8080/"
        },
        "outputId": "6a31c700-0a04-424c-bf62-5dcc0b3fd792"
      },
      "execution_count": null,
      "outputs": [
        {
          "output_type": "stream",
          "name": "stdout",
          "text": [
            "5\n",
            "15\n",
            "35\n"
          ]
        }
      ]
    },
    {
      "cell_type": "markdown",
      "source": [
        "2. Using Variable Length Arguments(*args)"
      ],
      "metadata": {
        "id": "f4Y4BDwxAB-l"
      }
    },
    {
      "cell_type": "code",
      "source": [
        "class Mathoperations:\n",
        "  def add(self,*numbers):\n",
        "    total=sum(numbers)\n",
        "    print(f\"sum : {total}\")\n",
        "\n",
        "math=Mathoperations()\n",
        "math.add(5)\n",
        "math.add(5,10)\n",
        "math.add(1,2,3,4,5)"
      ],
      "metadata": {
        "colab": {
          "base_uri": "https://localhost:8080/"
        },
        "id": "IaRAOGZS_wfm",
        "outputId": "b5b2a5b0-d04e-4e50-f5d6-38c6ac7361b5"
      },
      "execution_count": null,
      "outputs": [
        {
          "output_type": "stream",
          "name": "stdout",
          "text": [
            "sum : 5\n",
            "sum : 15\n",
            "sum : 15\n"
          ]
        }
      ]
    },
    {
      "cell_type": "markdown",
      "source": [
        "3. Using *Kwargs"
      ],
      "metadata": {
        "id": "3NgqWGLDDdbe"
      }
    },
    {
      "cell_type": "code",
      "source": [
        "class Greating:\n",
        "  def say_hello(self,**kwargs):\n",
        "    if \"name\" in kwargs and \"age\" in kwargs and \"city\" in kwargs:\n",
        "      print(f\"Hello {kwargs['name']}!\")\n",
        "      print(f\"You are {kwargs['age']} years old.\")\n",
        "      print(f\"You live in {kwargs['city']}.\")\n",
        "    else:\n",
        "      print(\"hello\")\n",
        "\n",
        "g=Greating()\n",
        "g.say_hello()\n",
        "g.say_hello(name=\"swalih\",age=18,city=\"palakkad\")"
      ],
      "metadata": {
        "colab": {
          "base_uri": "https://localhost:8080/"
        },
        "id": "pDHdclj8Di5O",
        "outputId": "695c287b-ea13-4d1c-fc39-1e4fdfcd7372"
      },
      "execution_count": null,
      "outputs": [
        {
          "output_type": "stream",
          "name": "stdout",
          "text": [
            "hello\n",
            "Hello swalih!\n",
            "You are 18 years old.\n",
            "You live in palakkad.\n"
          ]
        }
      ]
    },
    {
      "cell_type": "code",
      "source": [
        "class Company:\n",
        "  def __init__(self,company_name,company_id):\n",
        "    self.company_name=company_name\n",
        "    self.__company_id=company_id\n",
        "\n",
        "c1=Company(\"ABC\",1001)\n",
        "#print(c1.company_name)\n",
        "print(c1.__company_id)"
      ],
      "metadata": {
        "colab": {
          "base_uri": "https://localhost:8080/",
          "height": 193
        },
        "id": "4Ful9SiLEzX-",
        "outputId": "999ad4b6-c239-4c62-ea74-9889fbf5d648"
      },
      "execution_count": null,
      "outputs": [
        {
          "output_type": "stream",
          "name": "stdout",
          "text": [
            "ABC\n"
          ]
        },
        {
          "output_type": "error",
          "ename": "AttributeError",
          "evalue": "'Company' object has no attribute '__company_id'",
          "traceback": [
            "\u001b[0;31m---------------------------------------------------------------------------\u001b[0m",
            "\u001b[0;31mAttributeError\u001b[0m                            Traceback (most recent call last)",
            "\u001b[0;32m<ipython-input-22-c63d6efcc2d4>\u001b[0m in \u001b[0;36m<cell line: 0>\u001b[0;34m()\u001b[0m\n\u001b[1;32m      6\u001b[0m \u001b[0mc1\u001b[0m\u001b[0;34m=\u001b[0m\u001b[0mCompany\u001b[0m\u001b[0;34m(\u001b[0m\u001b[0;34m\"ABC\"\u001b[0m\u001b[0;34m,\u001b[0m\u001b[0;36m1001\u001b[0m\u001b[0;34m)\u001b[0m\u001b[0;34m\u001b[0m\u001b[0;34m\u001b[0m\u001b[0m\n\u001b[1;32m      7\u001b[0m \u001b[0mprint\u001b[0m\u001b[0;34m(\u001b[0m\u001b[0mc1\u001b[0m\u001b[0;34m.\u001b[0m\u001b[0mcompany_name\u001b[0m\u001b[0;34m)\u001b[0m\u001b[0;34m\u001b[0m\u001b[0;34m\u001b[0m\u001b[0m\n\u001b[0;32m----> 8\u001b[0;31m \u001b[0mprint\u001b[0m\u001b[0;34m(\u001b[0m\u001b[0mc1\u001b[0m\u001b[0;34m.\u001b[0m\u001b[0m__company_id\u001b[0m\u001b[0;34m)\u001b[0m\u001b[0;34m\u001b[0m\u001b[0;34m\u001b[0m\u001b[0m\n\u001b[0m",
            "\u001b[0;31mAttributeError\u001b[0m: 'Company' object has no attribute '__company_id'"
          ]
        }
      ]
    },
    {
      "cell_type": "code",
      "source": [
        "class Company:\n",
        "  def __init__(self,company_name,company_id):\n",
        "    self.company_name=company_name\n",
        "    self.__company_id=company_id\n",
        "\n",
        "  def get_company_id(self):\n",
        "    return self.__company_id\n",
        "\n",
        "c1=Company(\"ABC\",1001)\n",
        "print(c1.company_name)\n",
        "#print(c1.__company_id)\n",
        "print(c1.get_company_id())"
      ],
      "metadata": {
        "colab": {
          "base_uri": "https://localhost:8080/"
        },
        "id": "DXyC_sJXbOai",
        "outputId": "01d107b8-9fad-40bb-fa3b-b3510e6aa230"
      },
      "execution_count": null,
      "outputs": [
        {
          "output_type": "stream",
          "name": "stdout",
          "text": [
            "ABC\n",
            "1001\n"
          ]
        }
      ]
    },
    {
      "cell_type": "code",
      "source": [
        "class Company:\n",
        "  def __init__(self,company_name,company_id,ceo):\n",
        "    self.company_name=company_name\n",
        "    self.__company_id=company_id\n",
        "    self.__ceo=ceo\n",
        "\n",
        "  def get_company_id(self):\n",
        "    return self.__company_id\n",
        "\n",
        "  def set_ceo(self,name):\n",
        "    self.__ceo=name\n",
        "\n",
        "  def get_ceo(self):\n",
        "    return self.__ceo\n",
        "\n",
        "c1=Company(\"google\",91,\"sundar pichai\")\n",
        "#print(c1.__ceo)\n",
        "c1.set_ceo(\"nabeel\")\n",
        "print(c1.get_ceo())\n",
        "#print(c1.__company__id)"
      ],
      "metadata": {
        "colab": {
          "base_uri": "https://localhost:8080/"
        },
        "id": "LwA-L00xb016",
        "outputId": "1dceec16-2387-422c-edc3-69e2beab6740"
      },
      "execution_count": null,
      "outputs": [
        {
          "output_type": "stream",
          "name": "stdout",
          "text": [
            "nabeel\n"
          ]
        }
      ]
    },
    {
      "cell_type": "code",
      "source": [
        "class Company:\n",
        "  def __init__(self,company_name,company_id,ceo):\n",
        "    self.company_name=company_name\n",
        "    self.__company_id=company_id\n",
        "    self.__ceo=ceo\n",
        "\n",
        "  def set_company_id(self,id):\n",
        "     self.__company_id=id\n",
        "\n",
        "  def get_company_id(self):\n",
        "    return self.__company_id\n",
        "\n",
        "\n",
        "  def set_ceo(self,name):\n",
        "    self.__ceo=name\n",
        "\n",
        "  def get_ceo(self):\n",
        "    return self.__ceo\n",
        "\n",
        "c1=Company(\"google\",91,\"sundar pichai\")\n",
        "#print(c1.__ceo)\n",
        "c1.set_ceo(\"nabeel\")\n",
        "print(c1.get_ceo())\n",
        "#print(c1.__company__id)\n",
        "c1.set_company_id(1)\n",
        "print(c1.get_company_id())"
      ],
      "metadata": {
        "colab": {
          "base_uri": "https://localhost:8080/"
        },
        "id": "2eJ5XnjkfSeq",
        "outputId": "e4338eb1-70ad-4315-cebd-0761a5655941"
      },
      "execution_count": null,
      "outputs": [
        {
          "output_type": "stream",
          "name": "stdout",
          "text": [
            "nabeel\n",
            "1\n"
          ]
        }
      ]
    },
    {
      "cell_type": "code",
      "source": [
        "class BankAccount:\n",
        "  def __init__(self, account_number, balance):\n",
        "    self.__account_number = account_number  # private attribute\n",
        "    self.__balance = balance             # private attribute\n",
        "\n",
        "  def deposit(self, amount):\n",
        "    if amount > 0:\n",
        "      self.__balance = self.__balance + amount\n",
        "      print(f\"Deposited {amount}. New Balance: {self.__balance}\")\n",
        "    else:\n",
        "      print('invalid deposit amount')\n",
        "\n",
        "  def get_balance(self):\n",
        "    return self.__balance\n",
        "\n",
        "account = BankAccount('12345',1000)\n",
        "\n",
        "account.deposit(500)\n",
        "account.get_balance()"
      ],
      "metadata": {
        "colab": {
          "base_uri": "https://localhost:8080/"
        },
        "id": "u7T0VHkTv0tx",
        "outputId": "859cb7fd-c145-4af2-93db-81277bd8457d"
      },
      "execution_count": null,
      "outputs": [
        {
          "output_type": "stream",
          "name": "stdout",
          "text": [
            "Deposited 500. New Balance: 1500\n"
          ]
        },
        {
          "output_type": "execute_result",
          "data": {
            "text/plain": [
              "1500"
            ]
          },
          "metadata": {},
          "execution_count": 33
        }
      ]
    },
    {
      "cell_type": "code",
      "source": [],
      "metadata": {
        "id": "9szc6euwwNHZ"
      },
      "execution_count": null,
      "outputs": []
    },
    {
      "cell_type": "code",
      "source": [],
      "metadata": {
        "id": "b04fOTTMzy-i"
      },
      "execution_count": null,
      "outputs": []
    },
    {
      "cell_type": "markdown",
      "source": [
        "Car Class\n",
        "\n",
        "You are asked to develop a class to manage car's fuel securely.\n",
        "\n",
        "1.​Define a Python class Car with the following private attribute:\n",
        "      ○​ __fuel_level to store the fuel level in the car.\n",
        "\n",
        "2.​Implement the following public methods:\n",
        "     ○​ add_fuel(amount) – A method to add fuel to the car.\n",
        "     ○​ get_fuel_level() – A method to display the current fuel level securely.\n",
        "\n",
        "3.​ Demonstrate the usage of the class by:\n",
        "      ○​ Adding 20 units of fuel to the car.\n",
        "      ○​ Displaying the fuel level."
      ],
      "metadata": {
        "id": "eDmg33oz1qXr"
      }
    },
    {
      "cell_type": "code",
      "source": [],
      "metadata": {
        "id": "9IHzWcdF1osr"
      },
      "execution_count": null,
      "outputs": []
    },
    {
      "cell_type": "markdown",
      "source": [
        "## **Abstraction**"
      ],
      "metadata": {
        "id": "X6Sgsh8Ng4O0"
      }
    },
    {
      "cell_type": "code",
      "source": [
        "from abc import ABC, abstractmethod\n",
        "\n",
        "class Vehicle(ABC):\n",
        "  def start_engine(self):\n",
        "    print(\"Engine started\")\n",
        "\n",
        "  def apply_brake(self):\n",
        "    print(\"Brake applied\")\n",
        "\n",
        "  def stop_engine(self):\n",
        "    print(\"Engine Stopped\")\n",
        "  @abstractmethod\n",
        "  def change_gear(self):\n",
        "    pass\n",
        "\n",
        "\n",
        "class Car(Vehicle):\n",
        "  def open_sunroof(self):\n",
        "    print(\"sunroof opened\")\n",
        "  def change_gear(self):\n",
        "     print(\"the gear changed automatically\")\n",
        "\n",
        "class truck(Vehicle):\n",
        "  def load_weight(self):\n",
        "    print(\"weight loaded\")\n",
        "  def change_gear(self):\n",
        "    print(\"the gear changed manually\")\n",
        "\n",
        "\n",
        "\n",
        "c=Car()\n",
        "t=truck()\n",
        "c.change_gear()\n",
        "t.change_gear()"
      ],
      "metadata": {
        "colab": {
          "base_uri": "https://localhost:8080/"
        },
        "id": "IBzLTSqZirMr",
        "outputId": "5c9373d7-f3ce-4fe6-a0f7-d20c59ef1100"
      },
      "execution_count": null,
      "outputs": [
        {
          "output_type": "stream",
          "name": "stdout",
          "text": [
            "the gear changed automatically\n",
            "the gear changed manually\n"
          ]
        }
      ]
    },
    {
      "cell_type": "code",
      "source": [
        "# create an abstract class payment with an abstract method make_paypent().\n",
        "# implement subclasses creditcard and UPI ,where each provides its implementation for make_payment().\n",
        "# demonstrate the usage by calling the  methods on both subclasses"
      ],
      "metadata": {
        "id": "wmjC_piFo62M"
      },
      "execution_count": null,
      "outputs": []
    },
    {
      "cell_type": "code",
      "source": [
        "from abc import ABC, abstractmethod\n",
        "\n",
        "class Payment(ABC):\n",
        "    @abstractmethod\n",
        "    def make_payment(self, amount):\n",
        "        pass\n",
        "\n",
        "class CreditCard(Payment):\n",
        "    def make_payment(self, amount):\n",
        "        print(f\"Paid {amount} using Credit Card.\")\n",
        "\n",
        "class UPI(Payment):\n",
        "    def make_payment(self, amount):\n",
        "        print(f\"Paid {amount} using UPI.\")\n",
        "\n",
        "# Demonstration\n",
        "credit_card_payment = CreditCard()\n",
        "upi_payment = UPI()\n",
        "\n",
        "credit_card_payment.make_payment(500)  # Output: Paid 500 using Credit Card.\n",
        "upi_payment.make_payment(1000)        # Output: Paid 1000 using UPI."
      ],
      "metadata": {
        "id": "6iMXoU5rh4O8"
      },
      "execution_count": null,
      "outputs": []
    },
    {
      "cell_type": "code",
      "source": [
        "# create an abstract class shape with an abstract method caculate_area()\n",
        "# implement subclasses circle and square\n",
        "# for circle, calculate the area using  the radius, and for square, calculate the area using the side length"
      ],
      "metadata": {
        "id": "CBiPjGwrrZzN"
      },
      "execution_count": null,
      "outputs": []
    },
    {
      "cell_type": "code",
      "source": [
        "from abc import ABC, abstractmethod\n",
        "from math import pi\n",
        "\n",
        "class Shape(ABC):\n",
        "  @abstractmethod\n",
        "  def caculate_area():\n",
        "    pass\n",
        "\n",
        "class Circle(Shape):\n",
        "  def __init__(self,radius):\n",
        "    self.radius=radius\n",
        "\n",
        "  def caculate_area(self):\n",
        "    print(f\"Area of Circle : {pi*self.radius**2:.2f}\")\n",
        "\n",
        "class Square(Shape):\n",
        "  def __init__(self,side):\n",
        "    self.side=side\n",
        "\n",
        "  def calculate_area(self):\n",
        "    print(f\"Area of square : {self.side ** 2}\")\n",
        "\n",
        "circle=Circle(5)\n",
        "square=Square(4)\n",
        "\n",
        "circle.calculate_area()\n",
        "square.calculate_area()"
      ],
      "metadata": {
        "colab": {
          "base_uri": "https://localhost:8080/",
          "height": 211
        },
        "id": "fKNqPGL8rVH1",
        "outputId": "7e3ef213-77cf-4375-8182-2277baf6aa9d"
      },
      "execution_count": null,
      "outputs": [
        {
          "output_type": "error",
          "ename": "TypeError",
          "evalue": "Can't instantiate abstract class Square with abstract method caculate_area",
          "traceback": [
            "\u001b[0;31m---------------------------------------------------------------------------\u001b[0m",
            "\u001b[0;31mTypeError\u001b[0m                                 Traceback (most recent call last)",
            "\u001b[0;32m<ipython-input-7-d9bb9840abb4>\u001b[0m in \u001b[0;36m<cell line: 0>\u001b[0;34m()\u001b[0m\n\u001b[1;32m     22\u001b[0m \u001b[0;34m\u001b[0m\u001b[0m\n\u001b[1;32m     23\u001b[0m \u001b[0mcircle\u001b[0m\u001b[0;34m=\u001b[0m\u001b[0mCircle\u001b[0m\u001b[0;34m(\u001b[0m\u001b[0;36m5\u001b[0m\u001b[0;34m)\u001b[0m\u001b[0;34m\u001b[0m\u001b[0;34m\u001b[0m\u001b[0m\n\u001b[0;32m---> 24\u001b[0;31m \u001b[0msquare\u001b[0m\u001b[0;34m=\u001b[0m\u001b[0mSquare\u001b[0m\u001b[0;34m(\u001b[0m\u001b[0;36m4\u001b[0m\u001b[0;34m)\u001b[0m\u001b[0;34m\u001b[0m\u001b[0;34m\u001b[0m\u001b[0m\n\u001b[0m\u001b[1;32m     25\u001b[0m \u001b[0;34m\u001b[0m\u001b[0m\n\u001b[1;32m     26\u001b[0m \u001b[0mcircle\u001b[0m\u001b[0;34m.\u001b[0m\u001b[0mcalculate_area\u001b[0m\u001b[0;34m(\u001b[0m\u001b[0;34m)\u001b[0m\u001b[0;34m\u001b[0m\u001b[0;34m\u001b[0m\u001b[0m\n",
            "\u001b[0;31mTypeError\u001b[0m: Can't instantiate abstract class Square with abstract method caculate_area"
          ]
        }
      ]
    },
    {
      "cell_type": "code",
      "source": [],
      "metadata": {
        "id": "8g8_TgpGvA3f"
      },
      "execution_count": null,
      "outputs": []
    }
  ]
}