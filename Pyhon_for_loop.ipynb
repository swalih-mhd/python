{
  "nbformat": 4,
  "nbformat_minor": 0,
  "metadata": {
    "colab": {
      "provenance": []
    },
    "kernelspec": {
      "name": "python3",
      "display_name": "Python 3"
    },
    "language_info": {
      "name": "python"
    }
  },
  "cells": [
    {
      "cell_type": "code",
      "execution_count": null,
      "metadata": {
        "colab": {
          "base_uri": "https://localhost:8080/"
        },
        "id": "AZQrgthjN7rG",
        "outputId": "987d5ae4-47e5-49db-b37e-390f4bfe6534"
      },
      "outputs": [
        {
          "output_type": "stream",
          "name": "stdout",
          "text": [
            "1\n",
            "2\n",
            "3\n",
            "6\n",
            "5\n"
          ]
        }
      ],
      "source": [
        "# question 1\n",
        "# print elaments of a list\n",
        "x=[1,2,3,6,5]\n",
        "for i in x:\n",
        "  print(i)"
      ]
    },
    {
      "cell_type": "code",
      "source": [
        "# question 2\n",
        "# sum of elaments in a list\n",
        "x=[1,2,3,4,5]\n",
        "sum=0\n",
        "for i in x:\n",
        "  sum=sum+i\n",
        "print(sum)"
      ],
      "metadata": {
        "colab": {
          "base_uri": "https://localhost:8080/"
        },
        "id": "TeKKoAo1OPsA",
        "outputId": "20fb3e78-af3e-458f-8053-89edad402a6c"
      },
      "execution_count": null,
      "outputs": [
        {
          "output_type": "stream",
          "name": "stdout",
          "text": [
            "15\n"
          ]
        }
      ]
    },
    {
      "cell_type": "code",
      "source": [
        "# question 3\n",
        "# factorial calculation\n",
        "n=int(input(\"enter a number: \"))\n",
        "prod=1\n",
        "for i in range(1,n+1):\n",
        "  prod*=i\n",
        "print(prod)"
      ],
      "metadata": {
        "colab": {
          "base_uri": "https://localhost:8080/"
        },
        "id": "N0jYd56dOyiJ",
        "outputId": "2165190b-e1e1-4d2a-9cd8-51634327fb7c"
      },
      "execution_count": null,
      "outputs": [
        {
          "output_type": "stream",
          "name": "stdout",
          "text": [
            "enter a number: 5\n",
            "120\n"
          ]
        }
      ]
    },
    {
      "cell_type": "code",
      "source": [
        "# question 4\n",
        "# range loop\n",
        "for i in range(1,101):\n",
        "  print(i)"
      ],
      "metadata": {
        "colab": {
          "base_uri": "https://localhost:8080/"
        },
        "id": "TDYH_BiEPxCX",
        "outputId": "7031876a-206c-4110-afc4-35e234fb7468"
      },
      "execution_count": null,
      "outputs": [
        {
          "output_type": "stream",
          "name": "stdout",
          "text": [
            "1\n",
            "2\n",
            "3\n",
            "4\n",
            "5\n",
            "6\n",
            "7\n",
            "8\n",
            "9\n",
            "10\n",
            "11\n",
            "12\n",
            "13\n",
            "14\n",
            "15\n",
            "16\n",
            "17\n",
            "18\n",
            "19\n",
            "20\n",
            "21\n",
            "22\n",
            "23\n",
            "24\n",
            "25\n",
            "26\n",
            "27\n",
            "28\n",
            "29\n",
            "30\n",
            "31\n",
            "32\n",
            "33\n",
            "34\n",
            "35\n",
            "36\n",
            "37\n",
            "38\n",
            "39\n",
            "40\n",
            "41\n",
            "42\n",
            "43\n",
            "44\n",
            "45\n",
            "46\n",
            "47\n",
            "48\n",
            "49\n",
            "50\n",
            "51\n",
            "52\n",
            "53\n",
            "54\n",
            "55\n",
            "56\n",
            "57\n",
            "58\n",
            "59\n",
            "60\n",
            "61\n",
            "62\n",
            "63\n",
            "64\n",
            "65\n",
            "66\n",
            "67\n",
            "68\n",
            "69\n",
            "70\n",
            "71\n",
            "72\n",
            "73\n",
            "74\n",
            "75\n",
            "76\n",
            "77\n",
            "78\n",
            "79\n",
            "80\n",
            "81\n",
            "82\n",
            "83\n",
            "84\n",
            "85\n",
            "86\n",
            "87\n",
            "88\n",
            "89\n",
            "90\n",
            "91\n",
            "92\n",
            "93\n",
            "94\n",
            "95\n",
            "96\n",
            "97\n",
            "98\n",
            "99\n",
            "100\n"
          ]
        }
      ]
    },
    {
      "cell_type": "code",
      "source": [
        "# question 5\n",
        "#string characters\n",
        "a=\"hello world\"\n",
        "for i in a:\n",
        "  print(i,end=\",\")\n"
      ],
      "metadata": {
        "colab": {
          "base_uri": "https://localhost:8080/"
        },
        "id": "PfIQHbtfQDD-",
        "outputId": "b4eb26d3-a14f-49ef-d4c4-0b0b69118e5a"
      },
      "execution_count": null,
      "outputs": [
        {
          "output_type": "stream",
          "name": "stdout",
          "text": [
            "h,e,l,l,o, ,w,o,r,l,d,"
          ]
        }
      ]
    },
    {
      "cell_type": "code",
      "source": [
        "# question 6\n",
        "# count vowels in a string\n",
        "string = \"hello world\"\n",
        "vowels = \"aeiouAEIOU\"\n",
        "count = 0\n",
        "for i in string:\n",
        "  if i in vowels:\n",
        "    count += 1\n",
        "print(count)"
      ],
      "metadata": {
        "colab": {
          "base_uri": "https://localhost:8080/"
        },
        "id": "bFRxg1SAR9v_",
        "outputId": "9695d6bb-5b74-4156-ccca-5bff7232ea75"
      },
      "execution_count": null,
      "outputs": [
        {
          "output_type": "stream",
          "name": "stdout",
          "text": [
            "3\n"
          ]
        }
      ]
    },
    {
      "cell_type": "code",
      "source": [
        "# question 7\n",
        "# square of numbers\n",
        "for i in range(1,11):\n",
        "  print(i**2)\n"
      ],
      "metadata": {
        "colab": {
          "base_uri": "https://localhost:8080/"
        },
        "id": "3oF7itI-aklC",
        "outputId": "ef037a40-7911-4520-85dd-1f4510ad12bc"
      },
      "execution_count": null,
      "outputs": [
        {
          "output_type": "stream",
          "name": "stdout",
          "text": [
            "1\n",
            "4\n",
            "9\n",
            "16\n",
            "25\n",
            "36\n",
            "49\n",
            "64\n",
            "81\n",
            "100\n"
          ]
        }
      ]
    },
    {
      "cell_type": "code",
      "source": [
        "# question 7\n",
        "# square of numbers\n",
        "for i in range(1,11):\n",
        "  square=i**2\n",
        "  print(f\"square of {i}: {square}\")"
      ],
      "metadata": {
        "colab": {
          "base_uri": "https://localhost:8080/"
        },
        "id": "U_5yJ4WhR9_c",
        "outputId": "84bd579e-24bb-4fb5-b9fe-58ac70ddb353"
      },
      "execution_count": null,
      "outputs": [
        {
          "output_type": "stream",
          "name": "stdout",
          "text": [
            "square of 1: 1\n",
            "square of 2: 4\n",
            "square of 3: 9\n",
            "square of 4: 16\n",
            "square of 5: 25\n",
            "square of 6: 36\n",
            "square of 7: 49\n",
            "square of 8: 64\n",
            "square of 9: 81\n",
            "square of 10: 100\n"
          ]
        }
      ]
    },
    {
      "cell_type": "code",
      "source": [
        "# question 8\n",
        "# list comprehension\n",
        "[x**2 for x in range(1,10)]"
      ],
      "metadata": {
        "colab": {
          "base_uri": "https://localhost:8080/"
        },
        "id": "Y7f9-oqFR-R8",
        "outputId": "43ad18d8-d924-44ce-bf65-6e777401da19"
      },
      "execution_count": null,
      "outputs": [
        {
          "output_type": "execute_result",
          "data": {
            "text/plain": [
              "[1, 4, 9, 16, 25, 36, 49, 64, 81]"
            ]
          },
          "metadata": {},
          "execution_count": 7
        }
      ]
    },
    {
      "cell_type": "code",
      "source": [
        "# question 9\n",
        "# prime numbers\n",
        "for n in range(2,52):\n",
        "   prime =True\n",
        "   for i in range(2,n):\n",
        "     if n % i==0:\n",
        "        prime=False\n",
        "        break\n",
        "   if prime:\n",
        "     print(n)\n"
      ],
      "metadata": {
        "id": "lpUV023-R-sc",
        "colab": {
          "base_uri": "https://localhost:8080/"
        },
        "outputId": "d84c49c5-f61d-41b9-d21b-a47a9d269f8d"
      },
      "execution_count": null,
      "outputs": [
        {
          "output_type": "stream",
          "name": "stdout",
          "text": [
            "2\n",
            "3\n",
            "5\n",
            "7\n",
            "11\n",
            "13\n",
            "17\n",
            "19\n",
            "23\n",
            "29\n",
            "31\n",
            "37\n",
            "41\n",
            "43\n",
            "47\n"
          ]
        }
      ]
    }
  ]
}