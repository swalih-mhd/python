{
  "nbformat": 4,
  "nbformat_minor": 0,
  "metadata": {
    "colab": {
      "provenance": []
    },
    "kernelspec": {
      "name": "python3",
      "display_name": "Python 3"
    },
    "language_info": {
      "name": "python"
    }
  },
  "cells": [
    {
      "cell_type": "code",
      "execution_count": null,
      "metadata": {
        "colab": {
          "base_uri": "https://localhost:8080/"
        },
        "id": "Z3_mOYriPd5h",
        "outputId": "a12612e6-5015-4faf-ed8d-a155d3cbd269"
      },
      "outputs": [
        {
          "output_type": "stream",
          "name": "stdout",
          "text": [
            "niwsa\n"
          ]
        }
      ],
      "source": [
        "# question 1\n",
        "# Reverse a String:\n",
        "def reverse(n):\n",
        "  n=n[::-1]\n",
        "  return n\n",
        "print(reverse(\"aswin\"))"
      ]
    },
    {
      "cell_type": "code",
      "source": [
        "# question 2\n",
        "# Check for Prime Number:\n",
        "def is_prime(n):\n",
        "  if n<=1:\n",
        "    return False\n",
        "  for i in range(2,n):\n",
        "    if n%i==0:\n",
        "     return False\n",
        "  return True\n",
        "print(is_prime(5))\n"
      ],
      "metadata": {
        "id": "rd76HO-ePrgp",
        "colab": {
          "base_uri": "https://localhost:8080/"
        },
        "outputId": "9617b65a-8c2e-4179-8c22-8bb2f837db9f"
      },
      "execution_count": null,
      "outputs": [
        {
          "output_type": "stream",
          "name": "stdout",
          "text": [
            "True\n"
          ]
        }
      ]
    },
    {
      "cell_type": "code",
      "source": [
        "# question 3\n",
        "# GCD of Two Numbers:\n",
        "def gcd(a,b):\n",
        "  while b:\n",
        "    a,b=b,a%b\n",
        "  return a\n",
        "print(gcd(10,4))"
      ],
      "metadata": {
        "colab": {
          "base_uri": "https://localhost:8080/"
        },
        "id": "AMV4fQ63AkLm",
        "outputId": "6ee64210-ba07-4ba9-c629-0c38fca464c6"
      },
      "execution_count": null,
      "outputs": [
        {
          "output_type": "stream",
          "name": "stdout",
          "text": [
            "2\n"
          ]
        }
      ]
    },
    {
      "cell_type": "code",
      "source": [
        "# question 4\n",
        "# Convert List to Dictionary:\n",
        "def list_to_dict(list):\n",
        "   return dict(list)\n",
        "print(list_to_dict([(1,2),(3,4),(4,5)]))"
      ],
      "metadata": {
        "colab": {
          "base_uri": "https://localhost:8080/"
        },
        "id": "wpgix1IhAkXD",
        "outputId": "cd11bb08-ddcf-4313-bc89-6e6d4182ac0e"
      },
      "execution_count": null,
      "outputs": [
        {
          "output_type": "stream",
          "name": "stdout",
          "text": [
            "{1: 2, 3: 4, 4: 5}\n"
          ]
        }
      ]
    },
    {
      "cell_type": "code",
      "source": [
        "def list_to_dict(list):\n",
        "  return {x:y for x,y in list}\n",
        "print(list_to_dict([(1,2),(3,4),(4,5)]))"
      ],
      "metadata": {
        "colab": {
          "base_uri": "https://localhost:8080/"
        },
        "id": "uipv5x3fizBr",
        "outputId": "c549bbb9-861c-4cc6-a8fe-1617e5a55f31"
      },
      "execution_count": null,
      "outputs": [
        {
          "output_type": "stream",
          "name": "stdout",
          "text": [
            "{1: 2, 3: 4, 4: 5}\n"
          ]
        }
      ]
    },
    {
      "cell_type": "code",
      "source": [
        "# question 5\n",
        "# Calculate Power:\n",
        "def power(base, exponent):\n",
        "    result = base ** exponent\n",
        "    return result\n",
        "print(power(4,2))"
      ],
      "metadata": {
        "colab": {
          "base_uri": "https://localhost:8080/"
        },
        "id": "2aGJ-TqBAkir",
        "outputId": "e68f2509-8d16-495c-cce7-297bd1a29e2c"
      },
      "execution_count": null,
      "outputs": [
        {
          "output_type": "stream",
          "name": "stdout",
          "text": [
            "16\n"
          ]
        }
      ]
    },
    {
      "cell_type": "code",
      "source": [
        "# question 6\n",
        "#Count Occurrences:\n",
        "def count_occurrence(list,x):\n",
        "  count=0\n",
        "  for i in list:\n",
        "    if i==x:\n",
        "      count+=1\n",
        "  return count\n",
        "print(count_occurrence([1,2,1,3,4,1,5,1],1 ))"
      ],
      "metadata": {
        "id": "Ii5MQPCFAktT",
        "colab": {
          "base_uri": "https://localhost:8080/"
        },
        "outputId": "847a6551-5df1-426f-9b4d-b92da04b98ee"
      },
      "execution_count": null,
      "outputs": [
        {
          "output_type": "stream",
          "name": "stdout",
          "text": [
            "4\n"
          ]
        }
      ]
    },
    {
      "cell_type": "code",
      "source": [
        "# question 7\n",
        "# Generate a List of Even Numbers:\n",
        "def my_even(n):\n",
        "  a=[]\n",
        "  for i in range(2,2*n+1):\n",
        "   if i%2==0:\n",
        "     a.append(i)\n",
        "  return a\n",
        "print(my_even(10))"
      ],
      "metadata": {
        "colab": {
          "base_uri": "https://localhost:8080/"
        },
        "id": "eqglecpJAk4E",
        "outputId": "b88e767d-38eb-4bc7-9b17-8114e90a7696"
      },
      "execution_count": null,
      "outputs": [
        {
          "output_type": "stream",
          "name": "stdout",
          "text": [
            "[2, 4, 6, 8, 10, 12, 14, 16, 18, 20]\n"
          ]
        }
      ]
    },
    {
      "cell_type": "code",
      "source": [
        "def my_even(n):\n",
        "  return[i for i in range(2,2*n+1,2)]\n",
        "print(my_even(10))\n"
      ],
      "metadata": {
        "colab": {
          "base_uri": "https://localhost:8080/"
        },
        "id": "yog17V8x9g-S",
        "outputId": "441121e5-aae0-448e-ddeb-ef279832a673"
      },
      "execution_count": null,
      "outputs": [
        {
          "output_type": "stream",
          "name": "stdout",
          "text": [
            "[2, 4, 6, 8, 10, 12, 14, 16, 18, 20]\n"
          ]
        }
      ]
    },
    {
      "cell_type": "code",
      "source": [
        "# question 8\n",
        "# Merge Two Lists:\n",
        "def merge(a,b):\n",
        "  x=[]\n",
        "  a.extend(b)\n",
        "  x.extend(a)\n",
        "  return x\n",
        "print(merge([1,2,3,4,5],[6,7,8,9,10]))"
      ],
      "metadata": {
        "colab": {
          "base_uri": "https://localhost:8080/"
        },
        "id": "A_DM07wiAlEU",
        "outputId": "5390c667-7726-4bfb-c308-edda07ad01d4"
      },
      "execution_count": null,
      "outputs": [
        {
          "output_type": "stream",
          "name": "stdout",
          "text": [
            "[1, 2, 3, 4, 5, 6, 7, 8, 9, 10]\n"
          ]
        }
      ]
    },
    {
      "cell_type": "code",
      "source": [
        "def my_merge(a,b):\n",
        "  result=a+b\n",
        "  return result\n",
        "print(my_merge([1,2,3],[4,5,6]))\n",
        "\n"
      ],
      "metadata": {
        "colab": {
          "base_uri": "https://localhost:8080/"
        },
        "id": "035V-UwbLTJX",
        "outputId": "ac4dd3af-8123-48e4-a87d-967eee5ee77e"
      },
      "execution_count": null,
      "outputs": [
        {
          "output_type": "stream",
          "name": "stdout",
          "text": [
            "[1, 2, 3, 4, 5, 6]\n"
          ]
        }
      ]
    },
    {
      "cell_type": "code",
      "source": [
        "# question 9\n",
        "# Find Common Elements:\n",
        "def common_elements(a,b):\n",
        "  x=[]\n",
        "  for i in a:\n",
        "    if i in b:\n",
        "      x.append(i)\n",
        "  return x\n",
        "print(common_elements([1,2,3],[1,2,3]))\n"
      ],
      "metadata": {
        "colab": {
          "base_uri": "https://localhost:8080/"
        },
        "id": "t-MgeyrTAlPT",
        "outputId": "d70d2e50-bf36-4db2-b70d-389e61fc5eae"
      },
      "execution_count": null,
      "outputs": [
        {
          "output_type": "stream",
          "name": "stdout",
          "text": [
            "[1, 2, 3]\n"
          ]
        }
      ]
    },
    {
      "cell_type": "code",
      "source": [
        "def intersection(list1,list2):\n",
        "  return list(set(list1).intersection(set(list2)))\n",
        "print(intersection([1,2,4],[1,2,3]))"
      ],
      "metadata": {
        "colab": {
          "base_uri": "https://localhost:8080/"
        },
        "id": "oIzpEpJrGVJf",
        "outputId": "6ebec09c-38ea-4508-e0e2-1f11f96fdbf4"
      },
      "execution_count": null,
      "outputs": [
        {
          "output_type": "stream",
          "name": "stdout",
          "text": [
            "[1, 2]\n"
          ]
        }
      ]
    },
    {
      "cell_type": "code",
      "source": [
        "# question 10\n",
        "# Convert to Uppercase:\n",
        "def my_upper(n):\n",
        "  return n.upper()\n",
        "print(my_upper(\"nuhman\"))"
      ],
      "metadata": {
        "colab": {
          "base_uri": "https://localhost:8080/"
        },
        "id": "SnC7tXzgAlbD",
        "outputId": "ae20f331-2e2a-4860-f454-f3c1b7aa0b98"
      },
      "execution_count": null,
      "outputs": [
        {
          "output_type": "stream",
          "name": "stdout",
          "text": [
            "NUHMAN\n"
          ]
        }
      ]
    }
  ]
}